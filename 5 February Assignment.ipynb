{
 "cells": [
  {
   "cell_type": "markdown",
   "id": "93e50903",
   "metadata": {},
   "source": [
    "# 5 February Assigment "
   ]
  },
  {
   "cell_type": "markdown",
   "id": "107a7a80",
   "metadata": {},
   "source": [
    "## Q1. Explain Class and Object with respect to Object-Oriented Programming. Give a suitable example.\n"
   ]
  },
  {
   "cell_type": "markdown",
   "id": "446ed242",
   "metadata": {},
   "source": [
    "Class is a blueprint or a template that defines the structure and behavior of objects in Object-Oriented Programming (OOP). It encapsulates data and methods that are common to a group of objects. An object, on the other hand, is an instance of a class. It represents a specific entity with its own unique data and behavior. For example, consider a class called \"Car\" that defines the properties (such as color, model, and engine) and methods (such as start, stop, and accelerate). An object of the Car class could be \"myCar,\" which has specific values for its properties and can perform the defined methods."
   ]
  },
  {
   "cell_type": "code",
   "execution_count": null,
   "id": "fe6e171c",
   "metadata": {},
   "outputs": [],
   "source": []
  },
  {
   "cell_type": "markdown",
   "id": "a6b72f19",
   "metadata": {},
   "source": [
    "## Q2. Name the four pillars of OOPS.\n"
   ]
  },
  {
   "cell_type": "markdown",
   "id": "fc64f2d4",
   "metadata": {},
   "source": [
    "The four pillars of OOPs are:\n",
    "\n",
    "Encapsulation\n",
    "Inheritance\n",
    "Polymorphism\n",
    "Abstraction"
   ]
  },
  {
   "cell_type": "code",
   "execution_count": null,
   "id": "eea67fa5",
   "metadata": {},
   "outputs": [],
   "source": []
  },
  {
   "cell_type": "markdown",
   "id": "9d7381af",
   "metadata": {},
   "source": [
    "## Q3. Explain why the __init__() function is used. Give a suitable example.\n"
   ]
  },
  {
   "cell_type": "markdown",
   "id": "3017339e",
   "metadata": {},
   "source": [
    "The init() function is used as a constructor in object-oriented programming. It is called automatically when an object is created from a class and is used to initialize the object's attributes."
   ]
  },
  {
   "cell_type": "code",
   "execution_count": 1,
   "id": "026d6a33",
   "metadata": {},
   "outputs": [
    {
     "name": "stdout",
     "output_type": "stream",
     "text": [
      "Toyota\n",
      "Camry\n"
     ]
    }
   ],
   "source": [
    "class Car:\n",
    "    def __init__(self, brand, model):\n",
    "        self.brand = brand\n",
    "        self.model = model\n",
    "\n",
    "my_car = Car(\"Toyota\", \"Camry\")\n",
    "print(my_car.brand)  \n",
    "print(my_car.model)  \n"
   ]
  },
  {
   "cell_type": "markdown",
   "id": "70011c29",
   "metadata": {},
   "source": [
    "## Q4. Why self is used in OOPS?"
   ]
  },
  {
   "cell_type": "markdown",
   "id": "3b785166",
   "metadata": {},
   "source": [
    "In object-oriented programming (OOP), self is used to represent the instance of a class. By using self, we can access the attributes and methods of the class in Python. It binds the attributes with the given arguments.\n",
    "It does not have to be named self , you can call it whatever you like, but it has to be the first parameter of any function in the class."
   ]
  },
  {
   "cell_type": "code",
   "execution_count": null,
   "id": "e1ed4bc5",
   "metadata": {},
   "outputs": [],
   "source": []
  },
  {
   "cell_type": "markdown",
   "id": "9cb55c3f",
   "metadata": {},
   "source": [
    "## Q5. What is inheritance? Give an example for each type of inheritance"
   ]
  },
  {
   "cell_type": "markdown",
   "id": "b4c23fae",
   "metadata": {},
   "source": [
    "Inheritance is one of the core concepts of object-oriented programming (OOP) languages. It is a mechanism where you can derive a class from another class for a hierarchy of classes that share a set of attributes and methods³. \n",
    "\n",
    "There are five types of inheritance in Python:\n",
    "- Single inheritance\n",
    "- Multiple inheritance\n",
    "- Multi-level inheritance\n",
    "- Hierarchical Inheritance\n",
    "- Hybrid Inheritance\n"
   ]
  },
  {
   "cell_type": "code",
   "execution_count": 2,
   "id": "92dd2e39",
   "metadata": {},
   "outputs": [
    {
     "name": "stdout",
     "output_type": "stream",
     "text": [
      "This function is in parent class.\n"
     ]
    }
   ],
   "source": [
    "'''Single inheritance is the simplest type of inheritance. In this type of inheritance, \n",
    "a derived class inherits the properties and methods of a single parent class.\n",
    "''' \n",
    "class Parent:\n",
    "    def func1(self):\n",
    "        print(\"This function is in parent class.\")\n",
    "        \n",
    "class Child(Parent):\n",
    "    def func2(self):\n",
    "        print(\"This function is in child class.\")\n",
    "        \n",
    "object = Child()\n",
    "object.func1()"
   ]
  },
  {
   "cell_type": "code",
   "execution_count": 3,
   "id": "7c235ad1",
   "metadata": {},
   "outputs": [
    {
     "name": "stdout",
     "output_type": "stream",
     "text": [
      "This function is in parent1 class.\n",
      "This function is in parent2 class.\n",
      "This function is in child class.\n"
     ]
    }
   ],
   "source": [
    "'''Multiple inheritance is when a derived class inherits from more than one parent class. In this type of inheritance, \n",
    "the derived class has access to all the properties and methods of all its parent classes.\n",
    "'''\n",
    "class Parent1:\n",
    "    def func1(self):\n",
    "        print(\"This function is in parent1 class.\")\n",
    "        \n",
    "class Parent2:\n",
    "    def func2(self):\n",
    "        print(\"This function is in parent2 class.\")\n",
    "        \n",
    "class Child(Parent1, Parent2):\n",
    "    def func3(self):\n",
    "        print(\"This function is in child class.\")\n",
    "        \n",
    "object = Child()\n",
    "object.func1()\n",
    "object.func2()\n",
    "object.func3()\n"
   ]
  },
  {
   "cell_type": "code",
   "execution_count": 4,
   "id": "032a5764",
   "metadata": {},
   "outputs": [
    {
     "name": "stdout",
     "output_type": "stream",
     "text": [
      "This function is in grandparent class.\n",
      "This function is in parent class.\n",
      "This function is in child class.\n"
     ]
    }
   ],
   "source": [
    "'''Multi-level inheritance is when a derived class inherits from a parent class, \n",
    "which in turn inherits from another parent class. In this type of inheritance, \n",
    "the derived class has access to all the properties and methods of both its parent classes.\n",
    "'''\n",
    "class Grandparent:\n",
    "    def func1(self):\n",
    "        print(\"This function is in grandparent class.\")\n",
    "        \n",
    "class Parent(Grandparent):\n",
    "    def func2(self):\n",
    "        print(\"This function is in parent class.\")\n",
    "        \n",
    "class Child(Parent):\n",
    "    def func3(self):\n",
    "        print(\"This function is in child class.\")\n",
    "        \n",
    "object = Child()\n",
    "object.func1()\n",
    "object.func2()\n",
    "object.func3()\n"
   ]
  },
  {
   "cell_type": "code",
   "execution_count": 5,
   "id": "2424fc19",
   "metadata": {},
   "outputs": [
    {
     "name": "stdout",
     "output_type": "stream",
     "text": [
      "This function is in parent class.\n",
      "This function is in child1 class.\n",
      "This function is in parent class.\n",
      "This function is in child2 class.\n"
     ]
    }
   ],
   "source": [
    "'''Hierarchical Inheritance is when more than one derived classes inherit from a single base or parent class. \n",
    "In this type of inheritance, the derived classes have access to all the properties and methods of their parent class.\n",
    "'''\n",
    "class Parent:\n",
    "    def func1(self):\n",
    "        print(\"This function is in parent class.\")\n",
    "        \n",
    "class Child1(Parent):\n",
    "    def func2(self):\n",
    "        print(\"This function is in child1 class.\")\n",
    "        \n",
    "class Child2(Parent):\n",
    "    def func3(self):\n",
    "        print(\"This function is in child2 class.\")\n",
    "        \n",
    "object1 = Child1()\n",
    "object2 = Child2()\n",
    "\n",
    "object1.func1()\n",
    "object1.func2()\n",
    "\n",
    "object2.func1()\n",
    "object2.func3()\n"
   ]
  },
  {
   "cell_type": "code",
   "execution_count": 6,
   "id": "8c8389a0",
   "metadata": {},
   "outputs": [
    {
     "name": "stdout",
     "output_type": "stream",
     "text": [
      "This function is in parent class.\n",
      "This function is in child class.\n",
      "This function is also a part of parent 2\n",
      "This function is in grandchild\n"
     ]
    }
   ],
   "source": [
    "'''Hybrid Inheritance is when two or more types of inheritance are combined in one program.\n",
    "'''\n",
    "class Parent:\n",
    "    def func1(self):\n",
    "        print(\"This function is in parent class.\")\n",
    "        \n",
    "class Child(Parent):\n",
    "    def func2(self):\n",
    "        print(\"This function is in child class.\")\n",
    "        \n",
    "class Parent2:\n",
    "    def func3(self):\n",
    "        print(\"This function is also a part of parent 2\")\n",
    "        \n",
    "class Grandchild(Child, Parent2):\n",
    "    def func4(self):\n",
    "        print(\"This function is in grandchild\")\n",
    "        \n",
    "object = Grandchild()\n",
    "\n",
    "object.func1()\n",
    "object.func2()\n",
    "object.func3()\n",
    "object.func4()\n"
   ]
  },
  {
   "cell_type": "code",
   "execution_count": null,
   "id": "2ee8df94",
   "metadata": {},
   "outputs": [],
   "source": []
  }
 ],
 "metadata": {
  "kernelspec": {
   "display_name": "Python 3 (ipykernel)",
   "language": "python",
   "name": "python3"
  },
  "language_info": {
   "codemirror_mode": {
    "name": "ipython",
    "version": 3
   },
   "file_extension": ".py",
   "mimetype": "text/x-python",
   "name": "python",
   "nbconvert_exporter": "python",
   "pygments_lexer": "ipython3",
   "version": "3.11.1"
  }
 },
 "nbformat": 4,
 "nbformat_minor": 5
}
