{
 "cells": [
  {
   "cell_type": "markdown",
   "id": "d143661f",
   "metadata": {},
   "source": [
    "# 2 February Assignment "
   ]
  },
  {
   "cell_type": "markdown",
   "id": "27dd22d6",
   "metadata": {},
   "source": [
    "### Q1. What are the characteristics of the tuples? Is tuple immutable?"
   ]
  },
  {
   "cell_type": "markdown",
   "id": "283fa655",
   "metadata": {},
   "source": [
    "### A1) Tuples have the following characteristics:\n",
    "\n",
    "- 1)They are indexed\n",
    "- 2)Tuples are ordered\n",
    "- 3)These are IMMUTABLE.\n",
    "- 4)They can contain differnt datatypes and duplicate items\n",
    "\n"
   ]
  },
  {
   "cell_type": "markdown",
   "id": "61de7804",
   "metadata": {},
   "source": [
    "&nbsp;"
   ]
  },
  {
   "cell_type": "markdown",
   "id": "8546b7b4",
   "metadata": {},
   "source": [
    "### Q2. What are the two tuple methods in python? Give an example of each method. Give a reason why tuples have only two in-built methods as compared to Lists."
   ]
  },
  {
   "cell_type": "markdown",
   "id": "6e954f70",
   "metadata": {},
   "source": [
    "### A2)Tuple has only two built in methods namely count and index , they are only two as tuples are immutable whereas list are mutable and most inbuit function are to modify it"
   ]
  },
  {
   "cell_type": "code",
   "execution_count": 15,
   "id": "f9da632a",
   "metadata": {},
   "outputs": [],
   "source": [
    "t= (1,2,1,3,2,4,3)"
   ]
  },
  {
   "cell_type": "code",
   "execution_count": 16,
   "id": "4bad50a8",
   "metadata": {},
   "outputs": [
    {
     "data": {
      "text/plain": [
       "2"
      ]
     },
     "execution_count": 16,
     "metadata": {},
     "output_type": "execute_result"
    }
   ],
   "source": [
    "#Returns number of times value ocuurs in a tuple\n",
    "print(t.count(1))"
   ]
  },
  {
   "cell_type": "code",
   "execution_count": 18,
   "id": "67dae21b",
   "metadata": {},
   "outputs": [
    {
     "data": {
      "text/plain": [
       "3"
      ]
     },
     "execution_count": 18,
     "metadata": {},
     "output_type": "execute_result"
    }
   ],
   "source": [
    "#retuns the index where value is first found\n",
    "t.index(3)"
   ]
  },
  {
   "cell_type": "markdown",
   "id": "7abff39e",
   "metadata": {},
   "source": [
    "&nbsp;"
   ]
  },
  {
   "cell_type": "markdown",
   "id": "ec5f7f1e",
   "metadata": {},
   "source": [
    "### Q3. Which collection datatypes in python do not allow duplicate items? Write a code using a set to remove duplicates from the given list.\n",
    "\n",
    "List = [1, 1, 1, 2, 1, 3, 1, 4, 2, 1, 2, 2, 2, 3, 2, 4, 3, 1, 3, 2, 3, 3, 3, 4, 4, 1, 4, 2, 4, 3, 4, 4]"
   ]
  },
  {
   "cell_type": "markdown",
   "id": "2d4fda11",
   "metadata": {},
   "source": [
    "### A3) Set datatype and dictionary does not allow duplicates"
   ]
  },
  {
   "cell_type": "code",
   "execution_count": 11,
   "id": "d8dfb353",
   "metadata": {},
   "outputs": [],
   "source": [
    "#declare\n",
    "List = [1, 1, 1, 2, 1, 3, 1, 4, 2, 1, 2, 2, 2, 3, 2, 4, 3, 1, 3, 2, 3, 3, 3, 4, 4, 1, 4, 2, 4, 3, 4, 4]"
   ]
  },
  {
   "cell_type": "code",
   "execution_count": 13,
   "id": "3431590a",
   "metadata": {},
   "outputs": [
    {
     "name": "stdout",
     "output_type": "stream",
     "text": [
      "{1, 2, 3, 4}\n"
     ]
    }
   ],
   "source": [
    "#convert to set\n",
    "nd = set(List)\n",
    "print(nd)"
   ]
  },
  {
   "cell_type": "markdown",
   "id": "c7eb858c",
   "metadata": {},
   "source": [
    "&nbsp;"
   ]
  },
  {
   "cell_type": "markdown",
   "id": "3d2fb960",
   "metadata": {},
   "source": [
    "### Q4. Explain the difference between the union() and update() methods for a set. Give an example of each method."
   ]
  },
  {
   "cell_type": "markdown",
   "id": "75139ff4",
   "metadata": {},
   "source": [
    "### A4) They are very different in the way that union is inplace and modifies the set and upadte does not and generally works when we assign it to new set and returns none"
   ]
  },
  {
   "cell_type": "code",
   "execution_count": 25,
   "id": "a105a4fa",
   "metadata": {},
   "outputs": [
    {
     "name": "stdout",
     "output_type": "stream",
     "text": [
      "None\n"
     ]
    }
   ],
   "source": [
    "a={1,2,3,4}\n",
    "b={3,4,5,6}\n",
    "#Difference\n",
    "print(a.update(b))"
   ]
  },
  {
   "cell_type": "code",
   "execution_count": 26,
   "id": "2963cbe3",
   "metadata": {},
   "outputs": [
    {
     "name": "stdout",
     "output_type": "stream",
     "text": [
      "{1, 2, 3, 4, 5, 6}\n"
     ]
    }
   ],
   "source": [
    "#Mofied inplace\n",
    "print(a)"
   ]
  },
  {
   "cell_type": "code",
   "execution_count": 27,
   "id": "8160ed1a",
   "metadata": {},
   "outputs": [
    {
     "name": "stdout",
     "output_type": "stream",
     "text": [
      "{3, 4, 5, 6, 7, 8}\n"
     ]
    }
   ],
   "source": [
    "c= {5,6,7,8}\n",
    "n = b.union(c)\n",
    "print(n)"
   ]
  },
  {
   "cell_type": "markdown",
   "id": "9db9b3c1",
   "metadata": {},
   "source": [
    "&nbsp;"
   ]
  },
  {
   "cell_type": "markdown",
   "id": "ddf2a244",
   "metadata": {},
   "source": [
    "### Q5. What is a dictionary? Give an example. Also, state whether a dictionary is ordered or unordered.\n"
   ]
  },
  {
   "cell_type": "markdown",
   "id": "23a11a9a",
   "metadata": {},
   "source": [
    "### A5) Data structures that allow to store data in key:value pairs, it is ORDERED and mutable "
   ]
  },
  {
   "cell_type": "code",
   "execution_count": 30,
   "id": "5a85ce77",
   "metadata": {},
   "outputs": [],
   "source": [
    " d = {'A':1,'B':2,'C':3}"
   ]
  },
  {
   "cell_type": "code",
   "execution_count": 36,
   "id": "7339c26c",
   "metadata": {},
   "outputs": [
    {
     "name": "stdout",
     "output_type": "stream",
     "text": [
      "{'A': 1, 'B': 2, 'C': 3}\n",
      "2\n"
     ]
    }
   ],
   "source": [
    "print(d)\n",
    "#Value access\n",
    "print(d['B'])"
   ]
  },
  {
   "cell_type": "markdown",
   "id": "dedf93db",
   "metadata": {},
   "source": [
    "&nbsp;"
   ]
  },
  {
   "cell_type": "markdown",
   "id": "a4b7114c",
   "metadata": {},
   "source": [
    "### Q6. Can we create a nested dictionary? If so, please give an example by creating a simple one-level nested dictionary."
   ]
  },
  {
   "cell_type": "code",
   "execution_count": 7,
   "id": "e8ef3d4e",
   "metadata": {},
   "outputs": [
    {
     "name": "stdout",
     "output_type": "stream",
     "text": [
      "spinach\n",
      "carrot\n"
     ]
    }
   ],
   "source": [
    "#declare\n",
    "vegis = {'leafy':'spinach','underground':{'tap':'carrot','fibrous':'potatoe'}}\n",
    "#normal\n",
    "print(vegis.get('leafy'))\n",
    "#nested\n",
    "print(vegis.get('underground').get('tap'))"
   ]
  },
  {
   "cell_type": "markdown",
   "id": "b65bf0d4",
   "metadata": {},
   "source": [
    "&nbsp;"
   ]
  },
  {
   "cell_type": "markdown",
   "id": "234eab3c",
   "metadata": {},
   "source": [
    "### Q7. Using setdefault() method, create key named topics in the given dictionary and also add the value of the key as this list ['Python', 'Machine Learning’, 'Deep Learning']\n",
    "\n",
    "\n",
    "dict1 = {'language' : 'Python', 'course': 'Data Science Masters'}"
   ]
  },
  {
   "cell_type": "code",
   "execution_count": 8,
   "id": "aa3cb2c5",
   "metadata": {},
   "outputs": [],
   "source": [
    "#declare\n",
    "dict1 = {'language' : 'Python', 'course': 'Data Science Masters'}"
   ]
  },
  {
   "cell_type": "code",
   "execution_count": 9,
   "id": "f5fb3309",
   "metadata": {},
   "outputs": [
    {
     "data": {
      "text/plain": [
       "['Python', 'Machine Learning', 'Deep Learning']"
      ]
     },
     "execution_count": 9,
     "metadata": {},
     "output_type": "execute_result"
    }
   ],
   "source": [
    "dict1.setdefault('topics',['Python', 'Machine Learning','Deep Learning'])"
   ]
  },
  {
   "cell_type": "code",
   "execution_count": 10,
   "id": "f831478e",
   "metadata": {},
   "outputs": [
    {
     "data": {
      "text/plain": [
       "{'language': 'Python',\n",
       " 'course': 'Data Science Masters',\n",
       " 'topics': ['Python', 'Machine Learning', 'Deep Learning']}"
      ]
     },
     "execution_count": 10,
     "metadata": {},
     "output_type": "execute_result"
    }
   ],
   "source": [
    "dict1"
   ]
  },
  {
   "cell_type": "markdown",
   "id": "27cd2bf5",
   "metadata": {},
   "source": [
    "&nbsp;"
   ]
  },
  {
   "cell_type": "markdown",
   "id": "1bc27e55",
   "metadata": {},
   "source": [
    "### Q8. What are the three view objects in dictionaries? Use the three in-built methods in python to display these three view objects for the given dictionary.\n",
    "\n",
    "\n",
    "dict1 = {'Sport': 'Cricket' , 'Teams': ['India', 'Australia', 'England', 'South Africa', 'Sri Lanka', 'New Zealand']}"
   ]
  },
  {
   "cell_type": "markdown",
   "id": "c58ee2fd",
   "metadata": {},
   "source": [
    "### A8) Dictionary has three view objects namely keys,values and items they can be used as follows: "
   ]
  },
  {
   "cell_type": "code",
   "execution_count": 37,
   "id": "a35c3da9",
   "metadata": {},
   "outputs": [],
   "source": [
    "#declare\n",
    "dict2 = {'Sport': 'Cricket' , 'Teams': ['India', 'Australia', 'England', 'South Africa', 'Sri Lanka', 'New Zealand']}"
   ]
  },
  {
   "cell_type": "code",
   "execution_count": 38,
   "id": "20d896de",
   "metadata": {},
   "outputs": [
    {
     "name": "stdout",
     "output_type": "stream",
     "text": [
      "dict_keys(['Sport', 'Teams'])\n",
      "<class 'dict_keys'>\n"
     ]
    }
   ],
   "source": [
    "#.keys() is used to access all keys of dictionary andreturns list of the same\n",
    "print(dict2.keys())\n",
    "print(type(dict2.keys()))"
   ]
  },
  {
   "cell_type": "code",
   "execution_count": 39,
   "id": "2349ad90",
   "metadata": {},
   "outputs": [
    {
     "name": "stdout",
     "output_type": "stream",
     "text": [
      "dict_values(['Cricket', ['India', 'Australia', 'England', 'South Africa', 'Sri Lanka', 'New Zealand']])\n",
      "<class 'dict_values'>\n"
     ]
    }
   ],
   "source": [
    "#.values() is used to access all values of dictionary andreturns list of the same\n",
    "print(dict2.values())\n",
    "print(type(dict2.values()))"
   ]
  },
  {
   "cell_type": "code",
   "execution_count": 44,
   "id": "de52c13b",
   "metadata": {},
   "outputs": [
    {
     "name": "stdout",
     "output_type": "stream",
     "text": [
      "dict_items([('Sport', 'Cricket'), ('Teams', ['India', 'Australia', 'England', 'South Africa', 'Sri Lanka', 'New Zealand'])])\n",
      "<class 'dict_items'>\n"
     ]
    }
   ],
   "source": [
    "#.items() is used to access all key value pair of dictionary as list of the same\n",
    "i = dict2.items()\n",
    "print(i)\n",
    "print(type(i))"
   ]
  },
  {
   "cell_type": "markdown",
   "id": "2a6f088d",
   "metadata": {},
   "source": [
    "&nbsp;"
   ]
  }
 ],
 "metadata": {
  "kernelspec": {
   "display_name": "Python 3 (ipykernel)",
   "language": "python",
   "name": "python3"
  },
  "language_info": {
   "codemirror_mode": {
    "name": "ipython",
    "version": 3
   },
   "file_extension": ".py",
   "mimetype": "text/x-python",
   "name": "python",
   "nbconvert_exporter": "python",
   "pygments_lexer": "ipython3",
   "version": "3.11.1"
  }
 },
 "nbformat": 4,
 "nbformat_minor": 5
}
