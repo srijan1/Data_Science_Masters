{
 "cells": [
  {
   "cell_type": "markdown",
   "id": "02ed9b87",
   "metadata": {},
   "source": [
    "# 18 Febraury Assignment"
   ]
  },
  {
   "cell_type": "markdown",
   "id": "857c14ec",
   "metadata": {},
   "source": [
    "## Q1. What is an API? Give an example, where an API is used in real life.\n"
   ]
  },
  {
   "cell_type": "markdown",
   "id": "d89eb6f2",
   "metadata": {},
   "source": [
    "### A1) API stands for Application Programming Interface. It is a set of rules, protocols, and tools for building software applications. In simple terms, an API allows different software systems to communicate with each other.\n",
    "### An example of an API used in real life is the Google Maps API.  It provides a set of programming interfaces that allow developers to integrate Google Maps into their own applications. \n",
    "### This means that developers can create applications that use the Google Maps features such as finding directions, searching for locations, and displaying maps. \n",
    "### Many companies and organizations use the Google Maps API to provide location-based services to their customers. \n",
    "### For example, Uber uses the Google Maps API to show drivers where their passengers are located and to help them find the best route to their destination."
   ]
  },
  {
   "cell_type": "code",
   "execution_count": null,
   "id": "54d71791",
   "metadata": {},
   "outputs": [],
   "source": []
  },
  {
   "cell_type": "markdown",
   "id": "798a3daa",
   "metadata": {},
   "source": [
    "## Q2. Give advantages and disadvantages of using API.\n"
   ]
  },
  {
   "cell_type": "markdown",
   "id": "51bc156a",
   "metadata": {},
   "source": [
    "### A2) Advantages of using API:\n",
    "\n",
    "1) Reusability: APIs can be reused in different applications to provide the same functionality, saving time and effort in developing new code.\n",
    "\n",
    "2) Easy Integration: APIs are designed to be easily integrated with other software applications. This means that developers can create new applications by leveraging existing APIs, without needing to start from scratch.\n",
    "\n",
    "3) Better User Experience: APIs can help to provide a better user experience by allowing developers to integrate features from multiple sources into a single application.\n",
    "\n",
    "4) Improved Scalability: APIs can help to improve scalability by allowing developers to build applications that can handle a high volume of traffic and data.\n",
    "\n",
    "5) Improved Security: APIs can be designed with security in mind, helping to ensure that data is protected and that unauthorized access is prevented.\n",
    "\n"
   ]
  },
  {
   "cell_type": "markdown",
   "id": "eaaacaf4",
   "metadata": {},
   "source": [
    "### Disadvantages of using API:\n",
    "\n",
    "1) Complexity: APIs can be complex to use and require a certain level of technical expertise. This can make it difficult for non-technical users to integrate them into their applications.\n",
    "\n",
    "2) Dependency: Applications that use APIs are dependent on the provider of the API. If the provider changes the API or discontinues its service, it can impact the functionality of the application.\n",
    "\n",
    "3) Performance Issues: Poorly designed APIs can cause performance issues in applications that use them. This can result in slow load times or unresponsive applications.\n",
    "\n",
    "4) Security Risks: APIs can also pose security risks if they are not designed with security in mind. Malicious actors can use APIs to gain unauthorized access to sensitive data.\n",
    "\n",
    "5) Cost: APIs can come with a cost, either as a subscription fee or per-use fee. This can add to the overall cost of developing an application that uses an API"
   ]
  },
  {
   "cell_type": "code",
   "execution_count": null,
   "id": "f136dc4d",
   "metadata": {},
   "outputs": [],
   "source": []
  },
  {
   "cell_type": "markdown",
   "id": "fc8b4f2a",
   "metadata": {},
   "source": [
    "## Q3. What is a Web API? Differentiate between API and Web API.\n"
   ]
  },
  {
   "cell_type": "markdown",
   "id": "886e0131",
   "metadata": {},
   "source": [
    "### A3) An API, or application programming interface, is a set of protocols and tools that define how software applications should interact with each other.\n",
    "### A web API, specifically, is an API that is accessed over the web using HTTP and often returns data in JSON or XML format.\n",
    "\n",
    "### API and web API differ in the way they are accessed and their intended use. \n",
    "### API can be used for any type of application, including desktop and mobile applications, \n",
    "### and may be accessed through various protocols, such as TCP/IP or a local library. \n",
    "#### In contrast, web API is designed for use specifically with web-based applications and is accessed through HTTP requests.\n",
    "\n",
    "### Another key difference is the way the data is returned. \n",
    "### API may return data in any format, including binary or custom formats, whereas web API almost always returns data \n",
    "### in a standardized format, such as JSON or XML, to ensure compatibility with web-based applications.\n",
    "\n",
    "### In summary, API is a broad term that refers to a set of protocols and tools that define how software applications \n",
    "### should interact with each other, while web API is a specific type of API that is accessed over the web and returns data in standardized formats.\n",
    "\n"
   ]
  },
  {
   "cell_type": "code",
   "execution_count": null,
   "id": "cc40ae0e",
   "metadata": {},
   "outputs": [],
   "source": []
  },
  {
   "cell_type": "markdown",
   "id": "eb099b5f",
   "metadata": {},
   "source": [
    "## Q4. Explain REST and SOAP Architecture. Mention shortcomings of SOAP.\n"
   ]
  },
  {
   "cell_type": "markdown",
   "id": "3f70c4b9",
   "metadata": {},
   "source": [
    "### A4) REST (Representational State Transfer) and SOAP (Simple Object Access Protocol) are two popular architectures for building web services.\n",
    "\n",
    "### REST is an architectural style that is based on a set of constraints or principles. \n",
    "### It uses HTTP requests to access and manipulate resources identified by URLs (Uniform Resource Locators). \n",
    "### RESTful APIs are designed to be stateless, meaning that each request contains all the information necessary to execute the request, and the server does not keep any state between requests.\n",
    "\n",
    "### SOAP, on the other hand, is a protocol that uses XML (eXtensible Markup Language) to exchange messages between web services. \n",
    "### It uses a standardized format for the messages, including a header and a body, and requires the use of a special protocol called a transport protocol, typically HTTP or HTTPS."
   ]
  },
  {
   "cell_type": "markdown",
   "id": "ee630e4b",
   "metadata": {},
   "source": [
    "### The main differences between REST and SOAP are:\n",
    "\n",
    "1)REST is simpler and more flexible than SOAP, making it easier to implement and more widely adopted.\n",
    "\n",
    "2)RESTful APIs are typically faster and consume less bandwidth because they use lightweight data formats such as JSON (JavaScript Object Notation).\n",
    "\n",
    "3)SOAP is more secure and reliable than REST because it has built-in error handling and validation, as well as support for encryption and digital signatures.\n",
    "\n",
    "4)SOAP is better suited for complex transactions and business processes, while REST is better suited for simple data transfers and web services."
   ]
  },
  {
   "cell_type": "markdown",
   "id": "5ad87d37",
   "metadata": {},
   "source": [
    "### One of the main shortcomings of SOAP is its complexity. The XML-based message format and the required use of a transport protocol such as HTTP or HTTPS make it more difficult to implement and maintain than REST. Additionally, SOAP can be slower and consume more bandwidth than REST, which can be a problem for large-scale web services. Finally, SOAP is not as widely adopted as REST, which can limit its interoperability with other systems."
   ]
  },
  {
   "cell_type": "code",
   "execution_count": null,
   "id": "3617040f",
   "metadata": {},
   "outputs": [],
   "source": []
  },
  {
   "cell_type": "markdown",
   "id": "1e3a6bb1",
   "metadata": {},
   "source": [
    "### Q5. Differentiate between REST and SOAP."
   ]
  },
  {
   "cell_type": "markdown",
   "id": "5833434c",
   "metadata": {},
   "source": [
    "### A5) REST (Representational State Transfer) and SOAP (Simple Object Access Protocol) are two popular architectural styles for designing web services. The main differences between them are as follows:\n",
    "\n",
    "1)Architecture Style: REST is an architectural style that follows a set of constraints to build web services. \n",
    "    SOAP, on the other hand, is a protocol for exchanging structured information over the web using XML.\n",
    "\n",
    "2)Data Format: REST uses simple data formats like JSON or XML to transmit data between client and server. SOAP, \n",
    "    on the other hand, uses only XML.\n",
    "\n",
    "3)Messaging Pattern: REST uses HTTP protocol and supports multiple messaging patterns like GET, POST, PUT, DELETE, etc. \n",
    "    SOAP uses its own messaging protocol over HTTP, SMTP or TCP.\n",
    "\n",
    "4)Resource Centric: REST is a resource-centric architecture style, where resources are identified by URIs (Uniform Resource Identifiers) and manipulated through HTTP methods. SOAP is a service-centric architecture style, where a set of operations or methods are defined and exposed for client use.\n",
    "\n",
    "5)Caching: REST supports caching, which can improve performance by reducing the number of requests to the server. SOAP does not support caching.\n",
    "\n",
    "6)Security: REST is less secure than SOAP, but it is more scalable and can be used for building large-scale applications. SOAP, on the other hand, provides a more secure and reliable communication mechanism but can be slower and less scalable.\n",
    "\n",
    "In summary, REST is lightweight and flexible, making it suitable for building web services that require scalability and flexibility, while SOAP provides a more reliable and secure communication mechanism but can be slower and less flexible."
   ]
  },
  {
   "cell_type": "code",
   "execution_count": null,
   "id": "1abf018d",
   "metadata": {},
   "outputs": [],
   "source": []
  }
 ],
 "metadata": {
  "kernelspec": {
   "display_name": "Python 3 (ipykernel)",
   "language": "python",
   "name": "python3"
  },
  "language_info": {
   "codemirror_mode": {
    "name": "ipython",
    "version": 3
   },
   "file_extension": ".py",
   "mimetype": "text/x-python",
   "name": "python",
   "nbconvert_exporter": "python",
   "pygments_lexer": "ipython3",
   "version": "3.11.1"
  }
 },
 "nbformat": 4,
 "nbformat_minor": 5
}
