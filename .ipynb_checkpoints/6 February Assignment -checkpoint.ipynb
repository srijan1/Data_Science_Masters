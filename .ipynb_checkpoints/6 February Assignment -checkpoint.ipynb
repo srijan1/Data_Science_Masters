{
 "cells": [
  {
   "cell_type": "markdown",
   "id": "ac18fc0a",
   "metadata": {},
   "source": [
    "# 6 February Assignment  "
   ]
  },
  {
   "cell_type": "markdown",
   "id": "a8bc345f",
   "metadata": {},
   "source": [
    "### Q1. Create a function which will take a list as an argument and return the product of all the numbers after creating a flat list.\n",
    "\n",
    "Use the below-given list as an argument for your function.\n",
    "\n",
    "\n",
    "list1 = [1,2,3,4, [44,55,66, True], False, (34,56,78,89,34), {1,2,3,3,2,1}, {1:34, \"key2\": [55, 67, 78, 89], 4: (45,\n",
    "22, 61, 34)}, [56, 'data science'], 'Machine Learning']\n",
    "\n",
    "\n",
    "Note: you must extract numeric keys and values of the dictionary also."
   ]
  },
  {
   "cell_type": "markdown",
   "id": "2cd198dd",
   "metadata": {},
   "source": [
    "### A1)"
   ]
  },
  {
   "cell_type": "code",
   "execution_count": 1,
   "id": "b991e6e8",
   "metadata": {},
   "outputs": [],
   "source": [
    "list1 = [1,2,3,4, [44,55,66, True], False, (34,56,78,89,34), {1,2,3,3,2,1},\n",
    "         {1:34, \"key2\": [55, 67, 78, 89], 4: (45, 22, 61, 34)}, [56, 'data science'], 'Machine Learning']"
   ]
  },
  {
   "cell_type": "code",
   "execution_count": 2,
   "id": "c6fc0082",
   "metadata": {},
   "outputs": [
    {
     "data": {
      "text/plain": [
       "[1,\n",
       " 2,\n",
       " 3,\n",
       " 4,\n",
       " [44, 55, 66, True],\n",
       " False,\n",
       " (34, 56, 78, 89, 34),\n",
       " {1, 2, 3},\n",
       " {1: 34, 'key2': [55, 67, 78, 89], 4: (45, 22, 61, 34)},\n",
       " [56, 'data science'],\n",
       " 'Machine Learning']"
      ]
     },
     "execution_count": 2,
     "metadata": {},
     "output_type": "execute_result"
    }
   ],
   "source": [
    "list1"
   ]
  },
  {
   "cell_type": "code",
   "execution_count": 26,
   "id": "ff3f6309",
   "metadata": {},
   "outputs": [],
   "source": [
    "def flat_list(lst):\n",
    "    flat_lst = []\n",
    "    for item in lst:\n",
    "        if isinstance(item, (int, float)):\n",
    "            flat_lst.append(item)\n",
    "        elif isinstance(item, str) and item.isnumeric():\n",
    "            flat_lst.append(int(item))\n",
    "        elif isinstance(item, (list, tuple)):\n",
    "            flat_lst.extend(flat_list(item))\n",
    "        elif isinstance(item, set):\n",
    "            flat_lst.extend(flat_list(list(item)))\n",
    "        elif isinstance(item, dict):\n",
    "            flat_lst.extend(flat_list(item.keys()))\n",
    "            flat_lst.extend(flat_list(item.values()))\n",
    "    return flat_lst\n"
   ]
  },
  {
   "cell_type": "code",
   "execution_count": 60,
   "id": "0aab96da",
   "metadata": {},
   "outputs": [
    {
     "name": "stdout",
     "output_type": "stream",
     "text": [
      "[1, 2, 3, 4, 44, 55, 66, True, False, 34, 56, 78, 89, 34, 1, 2, 3, 1, 4, 34, 55, 67, 78, 89, 45, 22, 61, 34, 56]\n",
      "[1, 2, 3, 4, 44, 55, 66, True, False, 34, 56, 78, 89, 34, 1, 2, 3, 1, 4, 34, 55, 67, 78, 89, 45, 22, 61, 34, 56]\n"
     ]
    }
   ],
   "source": [
    "mod = flat_list(list1)\n",
    "print(mod) "
   ]
  },
  {
   "cell_type": "code",
   "execution_count": 63,
   "id": "e6d70fa0",
   "metadata": {},
   "outputs": [],
   "source": [
    "def running_prod(lst):\n",
    "    prod = 1\n",
    "    for elem in lst:\n",
    "        if isinstance(elem, bool):\n",
    "            continue\n",
    "        elif isinstance(elem, int):\n",
    "            prod *= elem\n",
    "            yield prod\n",
    "        else:\n",
    "            yield prod\n"
   ]
  },
  {
   "cell_type": "code",
   "execution_count": 64,
   "id": "039bb516",
   "metadata": {},
   "outputs": [
    {
     "name": "stdout",
     "output_type": "stream",
     "text": [
      "1\n",
      "2\n",
      "6\n",
      "24\n",
      "1056\n",
      "58080\n",
      "3833280\n",
      "130331520\n",
      "7298565120\n",
      "569288079360\n",
      "50666639063040\n",
      "1722665728143360\n",
      "1722665728143360\n",
      "3445331456286720\n",
      "10335994368860160\n",
      "10335994368860160\n",
      "41343977475440640\n",
      "1405695234164981760\n",
      "77313237879073996800\n",
      "5179986937897957785600\n",
      "404038981156040707276800\n",
      "35959469322887622947635200\n",
      "1618176119529943032643584000\n",
      "35599874629658746718158848000\n",
      "2171592352409183549807689728000\n",
      "73834139981912240693461450752000\n",
      "4134711838987085478833841242112000\n"
     ]
    }
   ],
   "source": [
    "p = running_prod(mod)\n",
    "\n",
    "for i in p:\n",
    "    print(i)"
   ]
  },
  {
   "cell_type": "code",
   "execution_count": 61,
   "id": "b59d9e9c",
   "metadata": {},
   "outputs": [],
   "source": [
    "def product_of_numbers(lst):\n",
    "    product = 1\n",
    "    for num in lst:\n",
    "        if isinstance(num, bool):\n",
    "            continue\n",
    "        elif isinstance(num, (int, float)):\n",
    "            product *= num\n",
    "    return product\n"
   ]
  },
  {
   "cell_type": "code",
   "execution_count": 62,
   "id": "3cec335b",
   "metadata": {},
   "outputs": [
    {
     "name": "stdout",
     "output_type": "stream",
     "text": [
      "4134711838987085478833841242112000\n"
     ]
    }
   ],
   "source": [
    "print(product_of_numbers(mod))"
   ]
  },
  {
   "cell_type": "markdown",
   "id": "46fa9fe5",
   "metadata": {},
   "source": [
    "&nbsp;"
   ]
  },
  {
   "cell_type": "markdown",
   "id": "10a22f8f",
   "metadata": {},
   "source": [
    "### Q2. Write a python program for encrypting a message sent to you by your friend. The logic of encryption should be such that, for a the output should be z. For b, the output should be y. For c, the output should be x respectively. Also, the whitespace should be replaced with a dollar sign. Keep the punctuation marks unchanged.\n",
    "\n",
    "\n",
    "Input Sentence: I want to become a Data Scientist.\n",
    "\n",
    "\n",
    "Encrypt the above input sentence using the program you just created.\n",
    "\n",
    "\n",
    "Note: Convert the given input sentence into lowercase before encrypting. The final output should be\n",
    "lowercase."
   ]
  },
  {
   "cell_type": "markdown",
   "id": "66f9bd3a",
   "metadata": {},
   "source": [
    "### A2)"
   ]
  },
  {
   "cell_type": "code",
   "execution_count": 65,
   "id": "0fa757a3",
   "metadata": {},
   "outputs": [],
   "source": [
    "def encrypt_message(message):\n",
    "    encrypted_message = \"\"\n",
    "    for char in message:\n",
    "        if char.isalpha():\n",
    "            encrypted_char = chr(ord('a') + (ord('z') - ord(char)))\n",
    "            encrypted_message += encrypted_char\n",
    "        elif char == ' ':\n",
    "            encrypted_message += '$'\n",
    "        else:\n",
    "            encrypted_message += char\n",
    "    return encrypted_message\n"
   ]
  },
  {
   "cell_type": "code",
   "execution_count": 67,
   "id": "1f9c46e1",
   "metadata": {},
   "outputs": [
    {
     "name": "stdout",
     "output_type": "stream",
     "text": [
      "r$dzmg$gl$yvxlnv$z$wzgz$hxrvmgrhg.\n"
     ]
    }
   ],
   "source": [
    "message = \"i want to become a data scientist.\"\n",
    "encrypted_message = encrypt_message(message)\n",
    "print(encrypted_message)  "
   ]
  },
  {
   "cell_type": "markdown",
   "id": "4745922d",
   "metadata": {},
   "source": [
    "&nbsp;"
   ]
  }
 ],
 "metadata": {
  "kernelspec": {
   "display_name": "Python 3 (ipykernel)",
   "language": "python",
   "name": "python3"
  },
  "language_info": {
   "codemirror_mode": {
    "name": "ipython",
    "version": 3
   },
   "file_extension": ".py",
   "mimetype": "text/x-python",
   "name": "python",
   "nbconvert_exporter": "python",
   "pygments_lexer": "ipython3",
   "version": "3.11.1"
  }
 },
 "nbformat": 4,
 "nbformat_minor": 5
}
