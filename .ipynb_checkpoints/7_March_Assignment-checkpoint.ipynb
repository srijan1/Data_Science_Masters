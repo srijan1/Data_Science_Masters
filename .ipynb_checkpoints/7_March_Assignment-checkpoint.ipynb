{
 "cells": [
  {
   "cell_type": "markdown",
   "id": "d6a86804",
   "metadata": {},
   "source": [
    "## Q1. What are the three measures of central tendency? "
   ]
  },
  {
   "cell_type": "markdown",
   "id": "4fa08597",
   "metadata": {},
   "source": [
    "### A1. The three measures of central tendency are the mean, median, and mode.\n"
   ]
  },
  {
   "cell_type": "code",
   "execution_count": null,
   "id": "a36cd17e",
   "metadata": {},
   "outputs": [],
   "source": []
  },
  {
   "cell_type": "markdown",
   "id": "ffd1c087",
   "metadata": {},
   "source": [
    "## Q2. What is the difference between the mean, median, and mode? How are they used to measure the central tendency of a dataset?\n",
    " "
   ]
  },
  {
   "cell_type": "markdown",
   "id": "fff86453",
   "metadata": {},
   "source": [
    "### A2. The mean is the average value and is calculated by summing all the values in a dataset and dividing by the number of values. The median is the middle value in a sorted dataset, or the average of the two middle values for an even number of values. The mode is the value that appears most frequently in a dataset. These measures are used to represent the typical or central value of a dataset.\n"
   ]
  },
  {
   "cell_type": "code",
   "execution_count": null,
   "id": "213e7d6a",
   "metadata": {},
   "outputs": [],
   "source": []
  },
  {
   "cell_type": "markdown",
   "id": "4369d47f",
   "metadata": {},
   "source": [
    "## Q3. Measure the three measures of central tendency for the given height data:\n",
    "[178,177,176,177,178.2,178,175,179,180,175,178.9,176.2,177,172.5,178,176.5]\n"
   ]
  },
  {
   "cell_type": "markdown",
   "id": "d9c14f55",
   "metadata": {},
   "source": [
    "### A3. Three measures of central tendency i.e (mean, meadian mode)  for the given height data:\n"
   ]
  },
  {
   "cell_type": "code",
   "execution_count": 2,
   "id": "bfcc5b35",
   "metadata": {},
   "outputs": [
    {
     "name": "stdout",
     "output_type": "stream",
     "text": [
      "Mean: 177.01875\n",
      "Median: 177.0\n",
      "Mode: 178\n"
     ]
    }
   ],
   "source": [
    "import statistics\n",
    "\n",
    "height_data = [178, 177, 176, 177, 178.2, 178, 175, 179, 180, 175, 178.9, 176.2, 177, 172.5, 178, 176.5]\n",
    "\n",
    "mean = statistics.mean(height_data)\n",
    "median = statistics.median(height_data)\n",
    "mode = statistics.mode(height_data)\n",
    "\n",
    "print(\"Mean:\", mean)\n",
    "print(\"Median:\", median)\n",
    "print(\"Mode:\", mode)\n"
   ]
  },
  {
   "cell_type": "code",
   "execution_count": null,
   "id": "8b1e3e10",
   "metadata": {},
   "outputs": [],
   "source": []
  },
  {
   "cell_type": "markdown",
   "id": "15a9b2b8",
   "metadata": {},
   "source": [
    "## Q4. Find the standard deviation for the given data:\n",
    "[178,177,176,177,178.2,178,175,179,180,175,178.9,176.2,177,172.5,178,176.5]\n"
   ]
  },
  {
   "cell_type": "markdown",
   "id": "8a5a82f5",
   "metadata": {},
   "source": [
    "### A4. Standard deviation for the given data:\n"
   ]
  },
  {
   "cell_type": "code",
   "execution_count": 3,
   "id": "eaa34625",
   "metadata": {},
   "outputs": [
    {
     "name": "stdout",
     "output_type": "stream",
     "text": [
      "Standard Deviation: 1.8472389305844188\n"
     ]
    }
   ],
   "source": [
    "import statistics\n",
    "\n",
    "data = [178, 177, 176, 177, 178.2, 178, 175, 179, 180, 175, 178.9, 176.2, 177, 172.5, 178, 176.5]\n",
    "\n",
    "stdev = statistics.stdev(data)\n",
    "\n",
    "print(\"Standard Deviation:\", stdev)\n"
   ]
  },
  {
   "cell_type": "code",
   "execution_count": null,
   "id": "2077087b",
   "metadata": {},
   "outputs": [],
   "source": []
  },
  {
   "cell_type": "markdown",
   "id": "fc0375a7",
   "metadata": {},
   "source": [
    "## Q5. How are measures of dispersion such as range, variance, and standard deviation used to describe the spread of a dataset? Provide an example.\n",
    " "
   ]
  },
  {
   "cell_type": "markdown",
   "id": "07a887aa",
   "metadata": {},
   "source": [
    "A5. Measures of dispersion describe the spread or variability of a dataset. The range is the difference between the maximum and minimum values. Variance measures the average squared deviation from the mean, while the standard deviation is the square root of the variance. They provide information about how the data points are distributed around the measures of central tendency. For example, a larger standard deviation indicates a wider spread of data points from the mean.\n"
   ]
  },
  {
   "cell_type": "code",
   "execution_count": 4,
   "id": "f7b8d4a0",
   "metadata": {},
   "outputs": [
    {
     "name": "stdout",
     "output_type": "stream",
     "text": [
      "Range: 20\n",
      "Variance: 50.0\n",
      "Standard Deviation: 7.0710678118654755\n"
     ]
    }
   ],
   "source": [
    "import numpy as np\n",
    "\n",
    "data = [10, 15, 20, 25, 30]\n",
    "\n",
    "range_val = np.ptp(data)\n",
    "variance = np.var(data)\n",
    "stdev = np.std(data)\n",
    "\n",
    "print(\"Range:\", range_val)\n",
    "print(\"Variance:\", variance)\n",
    "print(\"Standard Deviation:\", stdev)\n"
   ]
  },
  {
   "cell_type": "code",
   "execution_count": null,
   "id": "71d48566",
   "metadata": {},
   "outputs": [],
   "source": []
  },
  {
   "cell_type": "markdown",
   "id": "d3815e87",
   "metadata": {},
   "source": [
    "## Q6. What is a Venn diagram?\n",
    " "
   ]
  },
  {
   "cell_type": "markdown",
   "id": "4895b677",
   "metadata": {},
   "source": [
    "### A6. A Venn diagram is a graphical representation used to show the relationships between different sets or groups. It consists of overlapping circles or shapes, where each circle represents a set, and the overlapping parts show the elements common to those sets.\n"
   ]
  },
  {
   "cell_type": "code",
   "execution_count": null,
   "id": "c03f2592",
   "metadata": {},
   "outputs": [],
   "source": []
  },
  {
   "cell_type": "markdown",
   "id": "49ca66b1",
   "metadata": {},
   "source": [
    "## Q7. For the two given sets A = (2,3,4,5,6,7) & B = (0,2,6,8,10).Find:\n",
    "\n",
    "- A intersection B\n",
    "- A union B\n",
    " "
   ]
  },
  {
   "cell_type": "markdown",
   "id": "4254f524",
   "metadata": {},
   "source": [
    "### A7. For the two given sets A = (2, 3, 4, 5, 6, 7) and B = (0, 2, 6, 8, 10):\n",
    "- A intersection B = (2, 6)\n",
    "- A union B = (0, 2, 3, 4, 5, 6, 7, 8, 10)\n"
   ]
  },
  {
   "cell_type": "code",
   "execution_count": 5,
   "id": "e38a2460",
   "metadata": {},
   "outputs": [
    {
     "name": "stdout",
     "output_type": "stream",
     "text": [
      "A intersection B: {2, 6}\n",
      "A union B: {0, 2, 3, 4, 5, 6, 7, 8, 10}\n"
     ]
    }
   ],
   "source": [
    "set_A = {2, 3, 4, 5, 6, 7}\n",
    "set_B = {0, 2, 6, 8, 10}\n",
    "\n",
    "intersection = set_A.intersection(set_B)\n",
    "union = set_A.union(set_B)\n",
    "\n",
    "print(\"A intersection B:\", intersection)\n",
    "print(\"A union B:\", union)\n"
   ]
  },
  {
   "cell_type": "code",
   "execution_count": null,
   "id": "e927ddc3",
   "metadata": {},
   "outputs": [],
   "source": []
  },
  {
   "cell_type": "markdown",
   "id": "d7d7b674",
   "metadata": {},
   "source": [
    "## Q8. What do you understand about skewness in data?\n",
    " "
   ]
  },
  {
   "cell_type": "markdown",
   "id": "fe12f7dd",
   "metadata": {},
   "source": [
    "### A8. Skewness in data refers to the asymmetry in its distribution. If the data is right-skewed, it means that the tail on the right side of the distribution is longer or more stretched than the left side."
   ]
  },
  {
   "cell_type": "code",
   "execution_count": null,
   "id": "63628aa0",
   "metadata": {},
   "outputs": [],
   "source": []
  },
  {
   "cell_type": "markdown",
   "id": "500e5bbf",
   "metadata": {},
   "source": [
    "## Q9. If a data is right skewed then what will be the position of median with respect to mean?\n",
    " "
   ]
  },
  {
   "cell_type": "markdown",
   "id": "7fc3ff18",
   "metadata": {},
   "source": [
    "### A9. If a data is right-skewed, the median will be positioned to the left of the mean.\n"
   ]
  },
  {
   "cell_type": "code",
   "execution_count": null,
   "id": "8c904816",
   "metadata": {},
   "outputs": [],
   "source": []
  },
  {
   "cell_type": "markdown",
   "id": "a71d2bdc",
   "metadata": {},
   "source": [
    "## Q10. Explain the difference between covariance and correlation. How are these measures used in statistical analysis?\n",
    " "
   ]
  },
  {
   "cell_type": "markdown",
   "id": "45acc220",
   "metadata": {},
   "source": [
    "### A10. Covariance measures the extent to which two variables vary together, whereas correlation measures the strength and direction of the linear relationship between two variables. Covariance can be positive, negative, or zero, while correlation ranges between -1 and 1. These measures are used in statistical analysis to understand the relationship between variables and determine their dependencies.\n"
   ]
  },
  {
   "cell_type": "code",
   "execution_count": null,
   "id": "4dd6fc8f",
   "metadata": {},
   "outputs": [],
   "source": []
  },
  {
   "cell_type": "markdown",
   "id": "1f144098",
   "metadata": {},
   "source": [
    "## Q11. What s the formula for calculating the sample mean? Provide an example calculation for a dataset.\n",
    " "
   ]
  },
  {
   "cell_type": "markdown",
   "id": "e8dfdd18",
   "metadata": {},
   "source": [
    "### A11. \n",
    "The formula for calculating the sample mean is:\n",
    "Mean = Sum of all values / Number of values\n",
    "For example, for a dataset [2, 4, 6, 8, 10], the mean would be calculated as:\n",
    "Mean = (2 + 4 + 6 + 8 + 10) / 5 = 6.\n"
   ]
  },
  {
   "cell_type": "code",
   "execution_count": null,
   "id": "f985d417",
   "metadata": {},
   "outputs": [],
   "source": []
  },
  {
   "cell_type": "markdown",
   "id": "97beb304",
   "metadata": {},
   "source": [
    "## Q12. For a normal distribution data what is the relationship between its measure of central tendency?\n",
    " "
   ]
  },
  {
   "cell_type": "markdown",
   "id": "0bc18132",
   "metadata": {},
   "source": [
    "### A12. For a normal distribution, the measures of central tendency (mean, median, and mode) are all equal."
   ]
  },
  {
   "cell_type": "code",
   "execution_count": null,
   "id": "4d312ccf",
   "metadata": {},
   "outputs": [],
   "source": []
  },
  {
   "cell_type": "markdown",
   "id": "b27bacd9",
   "metadata": {},
   "source": [
    "## Q13. How is covariance different from correlation?\n",
    " "
   ]
  },
  {
   "cell_type": "markdown",
   "id": "696df09a",
   "metadata": {},
   "source": [
    "### A13. Covariance measures the extent to which two variables vary together, whereas correlation measures the strength and direction of the linear relationship between two variables. Covariance is not standardized and depends on the scale of the variables, while correlation is standardized and ranges between -1 and 1.\n"
   ]
  },
  {
   "cell_type": "code",
   "execution_count": null,
   "id": "1685fcda",
   "metadata": {},
   "outputs": [],
   "source": []
  },
  {
   "cell_type": "markdown",
   "id": "7e2ea2a8",
   "metadata": {},
   "source": [
    "## Q14. How do outliers affect measures of central tendency and dispersion? Provide an example.\n",
    " "
   ]
  },
  {
   "cell_type": "markdown",
   "id": "fad9e31e",
   "metadata": {},
   "source": [
    "### A14. Outliers can significantly affect measures of central tendency, such as the mean, as they pull the average towards extreme values. Outliers can also influence measures of dispersion, such as the range and standard deviation, by increasing the spread of the data. For example, in a dataset of [1, 2, 3, 100], the presence of the outlier 100 greatly impacts the mean, making it much larger than the central values. Similarly, the range and standard deviation would be inflated due to the presence of the outlier."
   ]
  },
  {
   "cell_type": "code",
   "execution_count": 6,
   "id": "cc190f52",
   "metadata": {},
   "outputs": [
    {
     "name": "stdout",
     "output_type": "stream",
     "text": [
      "Mean: 26.5\n",
      "Median: 2.5\n",
      "Standard Deviation: 49.00680224893955\n"
     ]
    }
   ],
   "source": [
    "import statistics\n",
    "\n",
    "data = [1, 2, 3, 100]\n",
    "\n",
    "mean = statistics.mean(data)\n",
    "median = statistics.median(data)\n",
    "stdev = statistics.stdev(data)\n",
    "\n",
    "print(\"Mean:\", mean)\n",
    "print(\"Median:\", median)\n",
    "print(\"Standard Deviation:\", stdev)\n"
   ]
  },
  {
   "cell_type": "code",
   "execution_count": null,
   "id": "cc8ff1df",
   "metadata": {},
   "outputs": [],
   "source": []
  }
 ],
 "metadata": {
  "kernelspec": {
   "display_name": "Python 3 (ipykernel)",
   "language": "python",
   "name": "python3"
  },
  "language_info": {
   "codemirror_mode": {
    "name": "ipython",
    "version": 3
   },
   "file_extension": ".py",
   "mimetype": "text/x-python",
   "name": "python",
   "nbconvert_exporter": "python",
   "pygments_lexer": "ipython3",
   "version": "3.11.1"
  }
 },
 "nbformat": 4,
 "nbformat_minor": 5
}
