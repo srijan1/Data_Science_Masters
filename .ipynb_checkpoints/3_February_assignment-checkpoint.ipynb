{
 "cells": [
  {
   "cell_type": "markdown",
   "id": "fa69c5a1",
   "metadata": {},
   "source": [
    "# 3 Feb Assignment"
   ]
  },
  {
   "cell_type": "markdown",
   "id": "f79b7ebd",
   "metadata": {},
   "source": [
    "### Q1. Which keyword is used to create a function? Create a function to return a list of odd numbers in the range of 1 to 25.\n"
   ]
  },
  {
   "cell_type": "markdown",
   "id": "1bfb92c7",
   "metadata": {},
   "source": [
    "### A1) 'def' keyword is used to create function"
   ]
  },
  {
   "cell_type": "code",
   "execution_count": 5,
   "id": "7cd44b60",
   "metadata": {},
   "outputs": [],
   "source": [
    "#function\n",
    "l = []\n",
    "def odd_upto(n):\n",
    "    for i in range(1,n+1):\n",
    "        if i%2 != 0:\n",
    "            l.append(i)\n",
    "    return l\n",
    "        "
   ]
  },
  {
   "cell_type": "code",
   "execution_count": 6,
   "id": "5809e55f",
   "metadata": {},
   "outputs": [
    {
     "name": "stdout",
     "output_type": "stream",
     "text": [
      "[1, 3, 5, 7, 9, 11, 13, 15, 17, 19, 21, 23, 25]\n"
     ]
    }
   ],
   "source": [
    "print(odd_upto(25))"
   ]
  },
  {
   "cell_type": "markdown",
   "id": "2d39356e",
   "metadata": {},
   "source": [
    "&nbsp;"
   ]
  },
  {
   "cell_type": "markdown",
   "id": "97f9e248",
   "metadata": {},
   "source": [
    "### Q2. Why *args and **kwargs is used in some functions? Create a function each for *args and **kwargs to demonstrate their use.\n"
   ]
  },
  {
   "cell_type": "markdown",
   "id": "2c19e91e",
   "metadata": {},
   "source": [
    "### A2) *args and **kwargs are used to pass parameters in Python . We can pass a variable number of arguments to a function using special symbols. "
   ]
  },
  {
   "cell_type": "code",
   "execution_count": 7,
   "id": "b291502e",
   "metadata": {},
   "outputs": [],
   "source": [
    "def experiment(a,b,*c,**d):\n",
    "    print(a,b)\n",
    "    print(type(a))\n",
    "    print(c)\n",
    "    print(type(c))\n",
    "    print(d)\n",
    "    print(type(d))"
   ]
  },
  {
   "cell_type": "code",
   "execution_count": 8,
   "id": "db42d33d",
   "metadata": {},
   "outputs": [
    {
     "name": "stdout",
     "output_type": "stream",
     "text": [
      "1 2\n",
      "<class 'int'>\n",
      "(3, 4, 5, 6)\n",
      "<class 'tuple'>\n",
      "{'fruit': 'mango', 'situation': 'okay'}\n",
      "<class 'dict'>\n",
      "None\n"
     ]
    }
   ],
   "source": [
    "print(experiment(1,2,3,4,5,6,fruit='mango',situation='okay'))"
   ]
  },
  {
   "cell_type": "markdown",
   "id": "2754cb23",
   "metadata": {},
   "source": [
    "&nbsp;"
   ]
  },
  {
   "cell_type": "markdown",
   "id": "2571aa96",
   "metadata": {},
   "source": [
    "### Q3. What is an iterator in python? Name the method used to initialise the iterator object and the method used for iteration. Use these methods to print the first five elements of the given list [2, 4, 6, 8, 10, 12, 14, 16, 18, 20].\n"
   ]
  },
  {
   "cell_type": "markdown",
   "id": "8c16df38",
   "metadata": {},
   "source": [
    "### A3) Iterator in Python is an object that is used to iterate over iterable objects like lists, tuples, dicts, and sets. The iterator object is initialized using the iter() method. It uses the next() method for iteration"
   ]
  },
  {
   "cell_type": "code",
   "execution_count": 1,
   "id": "946e2ea9",
   "metadata": {},
   "outputs": [
    {
     "name": "stdout",
     "output_type": "stream",
     "text": [
      "2\n",
      "4\n",
      "6\n",
      "8\n",
      "10\n"
     ]
    }
   ],
   "source": [
    "l = [2, 4, 6, 8, 10, 12, 14, 16, 18, 20]\n",
    "iterator = iter(l)\n",
    "for i in range(5):\n",
    "    print(next(iterator))"
   ]
  },
  {
   "cell_type": "markdown",
   "id": "d98216cc",
   "metadata": {},
   "source": [
    "&nbsp;"
   ]
  },
  {
   "cell_type": "markdown",
   "id": "64881d36",
   "metadata": {},
   "source": [
    "### Q4. What is a generator function in python? Why yield keyword is used? Give an example of a generator function.\n"
   ]
  },
  {
   "cell_type": "markdown",
   "id": "ad79f7af",
   "metadata": {},
   "source": [
    "### A4)Generator is a function that returns an iterator that produces a sequence of values when iterated.Generators are useful when we want to produce a large sequence of values, but we don't want to store all of them in memory at once."
   ]
  },
  {
   "cell_type": "markdown",
   "id": "2f2be5f5",
   "metadata": {},
   "source": [
    "### Return sends a specified value back to its caller whereas Yield can produce a sequence of values. We should use yield when we want to iterate over a sequence, but don’t want to store the entire sequence in memory. Yield is used in Python generators"
   ]
  },
  {
   "cell_type": "markdown",
   "id": "0a59b804",
   "metadata": {},
   "source": [
    "### One example is a running avg that traders use everyday"
   ]
  },
  {
   "cell_type": "code",
   "execution_count": 16,
   "id": "86d8c4ba",
   "metadata": {},
   "outputs": [],
   "source": [
    "from termcolor import colored\n",
    "\n",
    "def running_avg(numbers):\n",
    "    total = 0\n",
    "    count = 0\n",
    "    for number in numbers:\n",
    "        total += number\n",
    "        count += 1\n",
    "        avg = total / count\n",
    "        if avg > 2:\n",
    "            yield colored(avg, 'red')\n",
    "        else:\n",
    "            yield colored(avg, 'green')\n"
   ]
  },
  {
   "cell_type": "code",
   "execution_count": 17,
   "id": "edeff74c",
   "metadata": {},
   "outputs": [
    {
     "name": "stdout",
     "output_type": "stream",
     "text": [
      "\u001b[32m1.0\u001b[0m\n",
      "\u001b[32m1.5\u001b[0m\n",
      "\u001b[32m2.0\u001b[0m\n",
      "\u001b[31m2.5\u001b[0m\n",
      "\u001b[31m3.0\u001b[0m\n"
     ]
    }
   ],
   "source": [
    "\n",
    "numbers = [1, 2, 3, 4, 5]\n",
    "avg_generator = running_avg(numbers)\n",
    "\n",
    "for avg in avg_generator:\n",
    "    print(avg)\n"
   ]
  },
  {
   "cell_type": "markdown",
   "id": "7ffbe54d",
   "metadata": {},
   "source": [
    "&nbsp;"
   ]
  },
  {
   "cell_type": "markdown",
   "id": "69717310",
   "metadata": {},
   "source": [
    "### Q5. Create a generator function for prime numbers less than 1000. Use the next() method to print the first 20 prime numbers."
   ]
  },
  {
   "cell_type": "markdown",
   "id": "7a050c37",
   "metadata": {},
   "source": [
    "### A5) This a very case where we can use generator functions"
   ]
  },
  {
   "cell_type": "code",
   "execution_count": 44,
   "id": "ab5bd1a3",
   "metadata": {},
   "outputs": [],
   "source": [
    "def check_prime(x):\n",
    "    if x < 2:\n",
    "        return False\n",
    "    for i in range(2, x):\n",
    "        if x % i == 0:\n",
    "            return False\n",
    "    return True"
   ]
  },
  {
   "cell_type": "code",
   "execution_count": 30,
   "id": "2d532119",
   "metadata": {},
   "outputs": [
    {
     "name": "stdout",
     "output_type": "stream",
     "text": [
      "True\n"
     ]
    }
   ],
   "source": [
    "print(check_prime(11))"
   ]
  },
  {
   "cell_type": "code",
   "execution_count": 45,
   "id": "7dea7d8b",
   "metadata": {},
   "outputs": [],
   "source": [
    "def generate_primes():\n",
    "    yield 2\n",
    "    num = 3\n",
    "    while num <= 1000:\n",
    "        if check_prime(num):\n",
    "            yield num\n",
    "        num += 2\n"
   ]
  },
  {
   "cell_type": "code",
   "execution_count": 46,
   "id": "b2c3bdb8",
   "metadata": {},
   "outputs": [
    {
     "name": "stdout",
     "output_type": "stream",
     "text": [
      "2\n",
      "3\n",
      "5\n",
      "7\n",
      "11\n",
      "13\n",
      "17\n",
      "19\n",
      "23\n",
      "29\n",
      "31\n",
      "37\n",
      "41\n",
      "43\n",
      "47\n",
      "53\n",
      "59\n",
      "61\n",
      "67\n",
      "71\n"
     ]
    }
   ],
   "source": [
    "# Use the generator to print the first 20 prime numbers\n",
    "gen = generate_primes()\n",
    "for i in range(20):\n",
    "    print(next(gen))\n"
   ]
  },
  {
   "cell_type": "code",
   "execution_count": null,
   "id": "6711ca89",
   "metadata": {},
   "outputs": [],
   "source": []
  }
 ],
 "metadata": {
  "kernelspec": {
   "display_name": "Python 3 (ipykernel)",
   "language": "python",
   "name": "python3"
  },
  "language_info": {
   "codemirror_mode": {
    "name": "ipython",
    "version": 3
   },
   "file_extension": ".py",
   "mimetype": "text/x-python",
   "name": "python",
   "nbconvert_exporter": "python",
   "pygments_lexer": "ipython3",
   "version": "3.11.1"
  }
 },
 "nbformat": 4,
 "nbformat_minor": 5
}
