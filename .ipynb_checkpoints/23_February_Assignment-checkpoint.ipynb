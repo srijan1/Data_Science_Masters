{
 "cells": [
  {
   "cell_type": "code",
   "execution_count": 15,
   "id": "d9285d2d",
   "metadata": {},
   "outputs": [],
   "source": [
    "import pandas as pd\n",
    "import numpy as np"
   ]
  },
  {
   "cell_type": "markdown",
   "id": "eef0ab33",
   "metadata": {},
   "source": [
    "## Q1. Create a Pandas Series that contains the following data: 4, 8, 15, 16, 23, and 42. Then, print the series.\n"
   ]
  },
  {
   "cell_type": "code",
   "execution_count": 8,
   "id": "1114768b",
   "metadata": {},
   "outputs": [],
   "source": [
    "ser = pd.Series([4, 8, 15, 16, 23,42])"
   ]
  },
  {
   "cell_type": "code",
   "execution_count": 9,
   "id": "65a2cd3b",
   "metadata": {},
   "outputs": [
    {
     "name": "stdout",
     "output_type": "stream",
     "text": [
      "<class 'pandas.core.series.Series'>\n",
      "0     4\n",
      "1     8\n",
      "2    15\n",
      "3    16\n",
      "4    23\n",
      "5    42\n",
      "dtype: int64\n"
     ]
    }
   ],
   "source": [
    "print(type(ser))\n",
    "print(ser)"
   ]
  },
  {
   "cell_type": "code",
   "execution_count": null,
   "id": "738ef262",
   "metadata": {},
   "outputs": [],
   "source": []
  },
  {
   "cell_type": "markdown",
   "id": "a6cdd277",
   "metadata": {},
   "source": [
    "## Q2. Create a variable of list type containing 10 elements in it, and apply pandas.Series function on the variable print it.\n"
   ]
  },
  {
   "cell_type": "code",
   "execution_count": 10,
   "id": "94f6894d",
   "metadata": {},
   "outputs": [],
   "source": [
    "l = [1,2,3,4,5,6,7,8,9,11]"
   ]
  },
  {
   "cell_type": "code",
   "execution_count": 11,
   "id": "2475ff91",
   "metadata": {},
   "outputs": [],
   "source": [
    "s  = pd.Series(data = l)"
   ]
  },
  {
   "cell_type": "code",
   "execution_count": 12,
   "id": "d13cde80",
   "metadata": {},
   "outputs": [
    {
     "name": "stdout",
     "output_type": "stream",
     "text": [
      "0     1\n",
      "1     2\n",
      "2     3\n",
      "3     4\n",
      "4     5\n",
      "5     6\n",
      "6     7\n",
      "7     8\n",
      "8     9\n",
      "9    11\n",
      "dtype: int64\n"
     ]
    }
   ],
   "source": [
    "print(s)"
   ]
  },
  {
   "cell_type": "code",
   "execution_count": null,
   "id": "8ff80303",
   "metadata": {},
   "outputs": [],
   "source": []
  },
  {
   "cell_type": "markdown",
   "id": "5e2d55a5",
   "metadata": {},
   "source": [
    "## Q3. Create a Pandas DataFrame that contains the following data: Then, print the DataFrame.\n"
   ]
  },
  {
   "attachments": {
    "Screenshot%20%284%29.png": {
     "image/png": "[encoded data removed]"
    }
   },
   "cell_type": "markdown",
   "id": "7889e812",
   "metadata": {},
   "source": [
    "![Screenshot%20%284%29.png](attachment:Screenshot%20%284%29.png)"
   ]
  },
  {
   "cell_type": "code",
   "execution_count": 18,
   "id": "16fbc150",
   "metadata": {},
   "outputs": [],
   "source": [
    "df = pd.DataFrame(np.array([['Alice', 25, 'Female'], ['Bob', 30, 'Male'], ['Claire', 27, 'Female']]),\n",
    "                   columns=['Name', 'Age', 'Gender'])"
   ]
  },
  {
   "cell_type": "code",
   "execution_count": 19,
   "id": "08869495",
   "metadata": {},
   "outputs": [
    {
     "data": {
      "text/html": [
       "<div>\n",
       "<style scoped>\n",
       "    .dataframe tbody tr th:only-of-type {\n",
       "        vertical-align: middle;\n",
       "    }\n",
       "\n",
       "    .dataframe tbody tr th {\n",
       "        vertical-align: top;\n",
       "    }\n",
       "\n",
       "    .dataframe thead th {\n",
       "        text-align: right;\n",
       "    }\n",
       "</style>\n",
       "<table border=\"1\" class=\"dataframe\">\n",
       "  <thead>\n",
       "    <tr style=\"text-align: right;\">\n",
       "      <th></th>\n",
       "      <th>Name</th>\n",
       "      <th>Age</th>\n",
       "      <th>Gender</th>\n",
       "    </tr>\n",
       "  </thead>\n",
       "  <tbody>\n",
       "    <tr>\n",
       "      <th>0</th>\n",
       "      <td>Alice</td>\n",
       "      <td>25</td>\n",
       "      <td>Female</td>\n",
       "    </tr>\n",
       "    <tr>\n",
       "      <th>1</th>\n",
       "      <td>Bob</td>\n",
       "      <td>30</td>\n",
       "      <td>Male</td>\n",
       "    </tr>\n",
       "    <tr>\n",
       "      <th>2</th>\n",
       "      <td>Claire</td>\n",
       "      <td>27</td>\n",
       "      <td>Female</td>\n",
       "    </tr>\n",
       "  </tbody>\n",
       "</table>\n",
       "</div>"
      ],
      "text/plain": [
       "     Name Age  Gender\n",
       "0   Alice  25  Female\n",
       "1     Bob  30    Male\n",
       "2  Claire  27  Female"
      ]
     },
     "execution_count": 19,
     "metadata": {},
     "output_type": "execute_result"
    }
   ],
   "source": [
    "df"
   ]
  },
  {
   "cell_type": "code",
   "execution_count": null,
   "id": "78defb40",
   "metadata": {},
   "outputs": [],
   "source": []
  },
  {
   "cell_type": "markdown",
   "id": "02c3c65a",
   "metadata": {},
   "source": [
    "## Q4. What is ‘DataFrame’ in pandas and how is it different from pandas.series? Explain with an example.\n"
   ]
  },
  {
   "cell_type": "markdown",
   "id": "ceeddce1",
   "metadata": {},
   "source": [
    "### A4) In pandas, a DataFrame is a two-dimensional tabular data structure consisting of rows and columns, similar to a spreadsheet or SQL table. It is the most commonly used data structure in pandas for data analysis and manipulation. Each column of a DataFrame can have a different data type, and it is also possible to specify row labels and column labels.A DataFrame is similar to a Series, but with the added ability to handle multiple dimensions.\n",
    "\n",
    "### On the other hand, a Series is a one-dimensional labeled array in pandas.It is similar to a column in a DataFrame, and is capable of holding any data type such as integers, strings, and floating-point numbers."
   ]
  },
  {
   "cell_type": "code",
   "execution_count": 26,
   "id": "ccb229c9",
   "metadata": {},
   "outputs": [
    {
     "name": "stdout",
     "output_type": "stream",
     "text": [
      "Dataframe example\n",
      "     Name Age  Gender\n",
      "0   Alice  25  Female\n",
      "1     Bob  30    Male\n",
      "2  Claire  27  Female\n",
      "<class 'pandas.core.frame.DataFrame'>\n"
     ]
    }
   ],
   "source": [
    "print('Dataframe example')\n",
    "print(df)\n",
    "print(type(df))"
   ]
  },
  {
   "cell_type": "code",
   "execution_count": 24,
   "id": "bdbeef10",
   "metadata": {},
   "outputs": [
    {
     "name": "stdout",
     "output_type": "stream",
     "text": [
      "Series\n",
      "0    25\n",
      "1    30\n",
      "2    27\n",
      "Name: Age, dtype: object\n"
     ]
    }
   ],
   "source": [
    "print('Series')\n",
    "Age_series = df['Age']\n",
    "print(Age_series)"
   ]
  },
  {
   "cell_type": "code",
   "execution_count": null,
   "id": "86e91242",
   "metadata": {},
   "outputs": [],
   "source": []
  },
  {
   "cell_type": "markdown",
   "id": "c46eff36",
   "metadata": {},
   "source": [
    "## Q5. What are some common functions you can use to manipulate data in a Pandas DataFrame? Can you give an example of when you might use one of these functions?\n"
   ]
  },
  {
   "cell_type": "markdown",
   "id": "22a8e6b7",
   "metadata": {},
   "source": [
    "### A5)There are many common functions that can be used to manipulate data in a Pandas DataFrame. Some of these are head(),tail(),info(),describe(),etc . Example:"
   ]
  },
  {
   "cell_type": "markdown",
   "id": "bc384e01",
   "metadata": {},
   "source": [
    "### DataFrame that contains information about employees, including their names, ages, and salaries. We might use the groupby() function to group the DataFrame by age and calculate the average salary for each age group. This would give us an idea of how salaries vary by age. We might also use the sort_values() function to sort the DataFrame by salary, so we can see which employees earn the most. Finally, we might use the fillna() function to fill any missing values in the DataFrame with the mean salary."
   ]
  },
  {
   "cell_type": "code",
   "execution_count": null,
   "id": "83cc4dec",
   "metadata": {},
   "outputs": [],
   "source": []
  },
  {
   "cell_type": "markdown",
   "id": "c5c76221",
   "metadata": {},
   "source": [
    "## Q6. Which of the following is mutable in nature Series, DataFrame, Panel?\n"
   ]
  },
  {
   "cell_type": "markdown",
   "id": "562a7551",
   "metadata": {},
   "source": [
    "### A6) Series and DataFrame are mutable in nature, whereas Panel is considered to be a less important data structure in Pandas and has been removed from the latest version."
   ]
  },
  {
   "cell_type": "code",
   "execution_count": null,
   "id": "d8148e4a",
   "metadata": {},
   "outputs": [],
   "source": []
  },
  {
   "cell_type": "markdown",
   "id": "b43b6c78",
   "metadata": {},
   "source": [
    "## Q7. Create a DataFrame using multiple Series. Explain with an example."
   ]
  },
  {
   "cell_type": "markdown",
   "id": "e531ee48",
   "metadata": {},
   "source": [
    "### A7) "
   ]
  },
  {
   "cell_type": "code",
   "execution_count": 28,
   "id": "945da230",
   "metadata": {},
   "outputs": [
    {
     "name": "stdout",
     "output_type": "stream",
     "text": [
      "   Sno.    Name  Sufficient\n",
      "0     1   apple        True\n",
      "1     2  banana       False\n",
      "2     3  orange        True\n",
      "3     4   grape        True\n",
      "4     5    kiwi       False\n"
     ]
    }
   ],
   "source": [
    "\n",
    "# create the first series\n",
    "data1 = pd.Series([1, 2, 3, 4, 5])\n",
    "\n",
    "# create the second series\n",
    "data2 = pd.Series(['apple', 'banana', 'orange', 'grape', 'kiwi'])\n",
    "\n",
    "# create the third series\n",
    "data3 = pd.Series([True, False, True, True, False])\n",
    "\n",
    "# create the DataFrame using the series\n",
    "df2 = pd.DataFrame({'Sno.': data1, 'Name': data2, 'Sufficient': data3})\n",
    "\n",
    "# print the DataFrame\n",
    "print(df2)\n"
   ]
  },
  {
   "cell_type": "code",
   "execution_count": null,
   "id": "e3244c28",
   "metadata": {},
   "outputs": [],
   "source": []
  }
 ],
 "metadata": {
  "kernelspec": {
   "display_name": "Python 3 (ipykernel)",
   "language": "python",
   "name": "python3"
  },
  "language_info": {
   "codemirror_mode": {
    "name": "ipython",
    "version": 3
   },
   "file_extension": ".py",
   "mimetype": "text/x-python",
   "name": "python",
   "nbconvert_exporter": "python",
   "pygments_lexer": "ipython3",
   "version": "3.11.1"
  }
 },
 "nbformat": 4,
 "nbformat_minor": 5
}
