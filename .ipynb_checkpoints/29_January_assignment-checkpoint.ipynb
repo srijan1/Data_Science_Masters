{
 "cells": [
  {
   "cell_type": "markdown",
   "id": "b24c2c86",
   "metadata": {},
   "source": [
    "# 29 Jan Assigment"
   ]
  },
  {
   "cell_type": "markdown",
   "id": "181f68d7",
   "metadata": {},
   "source": [
    "### Q1)Who developed python programming language?\n",
    "A1)Guido van Rossum"
   ]
  },
  {
   "cell_type": "markdown",
   "id": "8588eaad",
   "metadata": {},
   "source": [
    "### Q2)Which type of programming does python support?\n",
    "A2)Object Oriented Programming"
   ]
  },
  {
   "cell_type": "markdown",
   "id": "56b8c3ac",
   "metadata": {},
   "source": [
    "### Q3)Is Python case sensitive when dealing with identifiers?\n",
    "A3)YES, it is"
   ]
  },
  {
   "cell_type": "markdown",
   "id": "8a22467a",
   "metadata": {},
   "source": [
    "### Q4)What is the correct extension of the Python file?\n",
    "A4).py"
   ]
  },
  {
   "cell_type": "markdown",
   "id": "4da87ecb",
   "metadata": {},
   "source": [
    "### Q5)Is Python code compiled or Interpreted?\n",
    "A5)Interpreted"
   ]
  },
  {
   "cell_type": "markdown",
   "id": "86994fb3",
   "metadata": {},
   "source": [
    "### Q6)Name a few blocks of code used to define in Python language?\n",
    "A6)def"
   ]
  },
  {
   "cell_type": "markdown",
   "id": "d9d67f2e",
   "metadata": {},
   "source": [
    "### Q7)State a character used to give single line comments in Python?\n",
    "A7)\"#\" is  used to give single line comments in Python.\n"
   ]
  },
  {
   "cell_type": "markdown",
   "id": "3420cc97",
   "metadata": {},
   "source": [
    "### Q8) Mention functions which can help us find the version of pythan that we are currently working on?\n",
    "A8)python –version , sys.version\n"
   ]
  },
  {
   "cell_type": "markdown",
   "id": "662f9304",
   "metadata": {},
   "source": [
    "### Q9)Python supports the creation of anonymous functions a runtime, using a construct called ---\n",
    "A9)lambda\n"
   ]
  },
  {
   "cell_type": "markdown",
   "id": "144ad3d5",
   "metadata": {},
   "source": [
    "### Q10)What does pip stand for python?\n",
    "A10)Preffered Installer Program for insatlling libraries\n"
   ]
  },
  {
   "cell_type": "markdown",
   "id": "736c0c2b",
   "metadata": {},
   "source": [
    "### Q10)What does pip stand for python?\n",
    "A10)Preffered Installer Program for insatlling libraries\n"
   ]
  },
  {
   "cell_type": "markdown",
   "id": "5bece6d6",
   "metadata": {},
   "source": [
    "### Q11)Mention few built-in functions in python?\n",
    "A11)input(),print(),sum() etc\n"
   ]
  },
  {
   "cell_type": "markdown",
   "id": "4b468d1d",
   "metadata": {},
   "source": [
    "### Q12)What is the maximum possibile length of an identifier in Python?\n",
    "A12)79 characters\n"
   ]
  },
  {
   "cell_type": "markdown",
   "id": "822c3142",
   "metadata": {},
   "source": [
    "### Q13)what are the benefits of using Python?\n",
    "A13)Simple and easy , interpretable (easy to debug) , dynamically typed.\n"
   ]
  },
  {
   "cell_type": "markdown",
   "id": "9f83f9d7",
   "metadata": {},
   "source": [
    "### Q14)How is memory manage in Python?\n",
    "A14)Everything is object in Python that is mad of cstruct which has instance attributes that is used by automated garbage collector to free up memory. \n"
   ]
  },
  {
   "cell_type": "markdown",
   "id": "0e9ff6b4",
   "metadata": {},
   "source": [
    "### Q15)How to install Python on Windows and set path variables?\n",
    "A15)Download Python latest version , install and add python to path while installation.\n"
   ]
  },
  {
   "cell_type": "markdown",
   "id": "872ba4b3",
   "metadata": {},
   "source": [
    "### Q16)Is indentation required in python?\n",
    "A16)Yes , it is necessary to guide the interpertor.\n"
   ]
  },
  {
   "cell_type": "code",
   "execution_count": null,
   "id": "695431a7",
   "metadata": {},
   "outputs": [],
   "source": []
  }
 ],
 "metadata": {
  "kernelspec": {
   "display_name": "Python 3 (ipykernel)",
   "language": "python",
   "name": "python3"
  },
  "language_info": {
   "codemirror_mode": {
    "name": "ipython",
    "version": 3
   },
   "file_extension": ".py",
   "mimetype": "text/x-python",
   "name": "python",
   "nbconvert_exporter": "python",
   "pygments_lexer": "ipython3",
   "version": "3.11.1"
  }
 },
 "nbformat": 4,
 "nbformat_minor": 5
}
