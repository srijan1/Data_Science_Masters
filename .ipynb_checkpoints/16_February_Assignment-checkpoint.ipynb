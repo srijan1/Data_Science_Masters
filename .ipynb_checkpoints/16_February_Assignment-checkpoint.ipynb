{
 "cells": [
  {
   "cell_type": "code",
   "execution_count": 3,
   "id": "5abce3ea",
   "metadata": {},
   "outputs": [
    {
     "name": "stdout",
     "output_type": "stream",
     "text": [
      "Collecting mysql-connector-pythonNote: you may need to restart the kernel to use updated packages.\n",
      "\n",
      "  Downloading mysql_connector_python-8.0.33-cp311-cp311-win_amd64.whl (9.6 MB)\n",
      "                                              0.0/9.6 MB ? eta -:--:--\n",
      "     -                                        0.3/9.6 MB 7.9 MB/s eta 0:00:02\n",
      "     -                                        0.4/9.6 MB 5.1 MB/s eta 0:00:02\n",
      "     --                                       0.6/9.6 MB 4.4 MB/s eta 0:00:03\n",
      "     --                                       0.7/9.6 MB 4.1 MB/s eta 0:00:03\n",
      "     ---                                      0.9/9.6 MB 3.9 MB/s eta 0:00:03\n",
      "     ----                                     1.0/9.6 MB 3.7 MB/s eta 0:00:03\n",
      "     ----                                     1.1/9.6 MB 3.8 MB/s eta 0:00:03\n",
      "     -----                                    1.3/9.6 MB 3.8 MB/s eta 0:00:03\n",
      "     ------                                   1.5/9.6 MB 3.6 MB/s eta 0:00:03\n",
      "     ------                                   1.7/9.6 MB 3.6 MB/s eta 0:00:03\n",
      "     -------                                  1.9/9.6 MB 3.7 MB/s eta 0:00:03\n",
      "     --------                                 2.0/9.6 MB 3.8 MB/s eta 0:00:02\n",
      "     ---------                                2.2/9.6 MB 3.7 MB/s eta 0:00:02\n",
      "     ---------                                2.4/9.6 MB 3.7 MB/s eta 0:00:02\n",
      "     ----------                               2.5/9.6 MB 3.7 MB/s eta 0:00:02\n",
      "     -----------                              2.7/9.6 MB 3.7 MB/s eta 0:00:02\n",
      "     ------------                             2.9/9.6 MB 3.7 MB/s eta 0:00:02\n",
      "     ------------                             3.0/9.6 MB 3.7 MB/s eta 0:00:02\n",
      "     -------------                            3.2/9.6 MB 3.7 MB/s eta 0:00:02\n",
      "     --------------                           3.4/9.6 MB 3.6 MB/s eta 0:00:02\n",
      "     --------------                           3.6/9.6 MB 3.7 MB/s eta 0:00:02\n",
      "     ---------------                          3.7/9.6 MB 3.7 MB/s eta 0:00:02\n",
      "     ----------------                         3.9/9.6 MB 3.7 MB/s eta 0:00:02\n",
      "     -----------------                        4.1/9.6 MB 3.7 MB/s eta 0:00:02\n",
      "     -----------------                        4.2/9.6 MB 3.7 MB/s eta 0:00:02\n",
      "     ------------------                       4.5/9.6 MB 3.8 MB/s eta 0:00:02\n",
      "     -------------------                      4.6/9.6 MB 3.8 MB/s eta 0:00:02\n",
      "     --------------------                     4.8/9.6 MB 3.8 MB/s eta 0:00:02\n",
      "     --------------------                     5.0/9.6 MB 3.8 MB/s eta 0:00:02\n",
      "     ---------------------                    5.2/9.6 MB 3.8 MB/s eta 0:00:02\n",
      "     ----------------------                   5.3/9.6 MB 3.7 MB/s eta 0:00:02\n",
      "     -----------------------                  5.6/9.6 MB 3.8 MB/s eta 0:00:02\n",
      "     -----------------------                  5.7/9.6 MB 3.7 MB/s eta 0:00:02\n",
      "     ------------------------                 5.9/9.6 MB 3.8 MB/s eta 0:00:01\n",
      "     -------------------------                6.1/9.6 MB 3.8 MB/s eta 0:00:01\n",
      "     --------------------------               6.2/9.6 MB 3.8 MB/s eta 0:00:01\n",
      "     --------------------------               6.4/9.6 MB 3.8 MB/s eta 0:00:01\n",
      "     ---------------------------              6.6/9.6 MB 3.7 MB/s eta 0:00:01\n",
      "     ----------------------------             6.7/9.6 MB 3.8 MB/s eta 0:00:01\n",
      "     ----------------------------             6.9/9.6 MB 3.8 MB/s eta 0:00:01\n",
      "     -----------------------------            7.1/9.6 MB 3.8 MB/s eta 0:00:01\n",
      "     ------------------------------           7.2/9.6 MB 3.7 MB/s eta 0:00:01\n",
      "     ------------------------------           7.4/9.6 MB 3.7 MB/s eta 0:00:01\n",
      "     -------------------------------          7.5/9.6 MB 3.7 MB/s eta 0:00:01\n",
      "     --------------------------------         7.7/9.6 MB 3.7 MB/s eta 0:00:01\n",
      "     ---------------------------------        7.9/9.6 MB 3.8 MB/s eta 0:00:01\n",
      "     ---------------------------------        8.1/9.6 MB 3.7 MB/s eta 0:00:01\n",
      "     ----------------------------------       8.3/9.6 MB 3.8 MB/s eta 0:00:01\n",
      "     -----------------------------------      8.4/9.6 MB 3.7 MB/s eta 0:00:01\n",
      "     -----------------------------------      8.6/9.6 MB 3.7 MB/s eta 0:00:01\n",
      "     ------------------------------------     8.7/9.6 MB 3.7 MB/s eta 0:00:01\n",
      "     -------------------------------------    9.0/9.6 MB 3.8 MB/s eta 0:00:01\n",
      "     --------------------------------------   9.2/9.6 MB 3.8 MB/s eta 0:00:01\n",
      "     ---------------------------------------  9.4/9.6 MB 3.8 MB/s eta 0:00:01\n",
      "     ---------------------------------------  9.6/9.6 MB 3.8 MB/s eta 0:00:01\n",
      "     ---------------------------------------  9.6/9.6 MB 3.8 MB/s eta 0:00:01\n",
      "     ---------------------------------------- 9.6/9.6 MB 3.7 MB/s eta 0:00:00\n",
      "Collecting protobuf<=3.20.3,>=3.11.0 (from mysql-connector-python)\n",
      "  Downloading protobuf-3.20.3-py2.py3-none-any.whl (162 kB)\n",
      "                                              0.0/162.1 kB ? eta -:--:--\n",
      "     -------------------------------------- 162.1/162.1 kB 4.9 MB/s eta 0:00:00\n",
      "Installing collected packages: protobuf, mysql-connector-python\n",
      "Successfully installed mysql-connector-python-8.0.33 protobuf-3.20.3\n"
     ]
    }
   ],
   "source": [
    "pip install mysql-connector-python"
   ]
  },
  {
   "attachments": {
    "image.png": {
     "image/png": "[encoded data removed]"
    }
   },
   "cell_type": "markdown",
   "id": "40f3dab3",
   "metadata": {},
   "source": [
    "![image.png](attachment:image.png)"
   ]
  },
  {
   "cell_type": "markdown",
   "id": "c444627e",
   "metadata": {},
   "source": [
    "A database is a structured collection of data that is organized and stored in a way that enables efficient data retrieval, manipulation, and management. It provides a mechanism for storing and organizing large amounts of data, allowing for easy access, querying, and modification.\n",
    "\n",
    "SQL (Structured Query Language) and NoSQL (Not only SQL) are two different types of database management systems that differ in their data models, query languages, and underlying structures.\n",
    "\n",
    "\n",
    "SQL databases excel in structured and relational data scenarios, whereas NoSQL databases are more suitable for unstructured or rapidly evolving data with high scalability needs.\n"
   ]
  },
  {
   "cell_type": "markdown",
   "id": "07de83af",
   "metadata": {},
   "source": [
    "SQL Databases:\n",
    "1. Data Model: SQL databases are based on the relational data model. Data is organized into tables with predefined schemas, consisting of rows and columns.\n",
    "2. Query Language: SQL databases use SQL as the standard query language. SQL allows for powerful querying, filtering, joining, and aggregating of data.\n",
    "3. Schema: SQL databases enforce a predefined schema, which defines the structure and constraints of the data. Changes to the schema require altering the table structure.\n",
    "4. Scalability: SQL databases typically scale vertically by increasing the hardware resources of a single server. They are suitable for structured and transactional data.\n"
   ]
  },
  {
   "cell_type": "markdown",
   "id": "a6ede1e5",
   "metadata": {},
   "source": [
    "NoSQL Databases:\n",
    "1. Data Model: NoSQL databases use various data models like key-value, document, columnar, or graph. They are designed to handle unstructured, semi-structured, or rapidly changing data.\n",
    "2. Query Language: NoSQL databases have their own query languages or APIs, which may not be as standardized or powerful as SQL. Some NoSQL databases also support SQL-like querying.\n",
    "3. Schema: NoSQL databases are schema-less or have flexible schemas. They allow for dynamic and evolving data structures without requiring predefined schemas.\n",
    "4. Scalability: NoSQL databases are designed to scale horizontally by adding more servers to a distributed system. They are suitable for handling large amounts of data and high scalability needs.\n"
   ]
  },
  {
   "cell_type": "code",
   "execution_count": null,
   "id": "08359f2c",
   "metadata": {},
   "outputs": [],
   "source": []
  },
  {
   "attachments": {
    "image.png": {
     "image/png": "[encoded data removed]"
    }
   },
   "cell_type": "markdown",
   "id": "43d93854",
   "metadata": {},
   "source": [
    "![image.png](attachment:image.png)"
   ]
  },
  {
   "cell_type": "markdown",
   "id": "28a4ef35",
   "metadata": {},
   "source": [
    "DDL (Data Definition Language):\n",
    "DDL statements are used to define and manage the structure of database objects. These statements are responsible for creating, modifying, and deleting database objects such as tables, indexes, views, and schemas. Some commonly used DDL statements include:\n",
    "\n",
    "- CREATE: Creates a new database object, such as a table or view.\n",
    "- ALTER: Modifies the structure or properties of an existing database object.\n",
    "- DROP: Deletes an existing database object.\n",
    "- TRUNCATE: Removes all data from a table while keeping its structure intact."
   ]
  },
  {
   "cell_type": "code",
   "execution_count": null,
   "id": "139fe5f9",
   "metadata": {},
   "outputs": [],
   "source": [
    "import mysql.connector\n",
    "\n",
    "# Establish a connection to the MySQL server\n",
    "cnx = mysql.connector.connect(\n",
    "    host='your_host',\n",
    "    user='your_username',\n",
    "    password='your_password',\n",
    "    database='your_database'\n",
    ")\n",
    "cursor = cnx.cursor()\n",
    "\n",
    "# DDL - Data Definition Language\n",
    "\n",
    "# Create a table\n",
    "create_table_query = '''\n",
    "    CREATE TABLE employees (\n",
    "        id INT PRIMARY KEY,\n",
    "        name VARCHAR(50),\n",
    "        age INT,\n",
    "        department VARCHAR(50)\n",
    "    )\n",
    "'''\n",
    "cursor.execute(create_table_query)\n"
   ]
  },
  {
   "attachments": {
    "image.png": {
     "image/png": "[encoded data removed]"
    }
   },
   "cell_type": "markdown",
   "id": "0a128514",
   "metadata": {},
   "source": [
    "![image.png](attachment:image.png)"
   ]
  },
  {
   "cell_type": "markdown",
   "id": "ff6fbf32",
   "metadata": {},
   "source": [
    "DML (Data Manipulation Language):\n",
    "DML statements are used to manipulate data stored in the database. These statements perform operations such as inserting, updating, deleting, and retrieving data. DML is concerned with the actual data within the database rather than the structure of the database objects. Some commonly used DML statements include:\n",
    "\n",
    "- INSERT: Inserts new data into a table.\n",
    "- UPDATE: Modifies existing data in a table.\n",
    "- DELETE: Deletes data from a table.\n",
    "- SELECT: Retrieves data from one or more tables.\n"
   ]
  },
  {
   "cell_type": "code",
   "execution_count": null,
   "id": "ff2944d7",
   "metadata": {},
   "outputs": [],
   "source": [
    "# DML - Data Manipulation Language\n",
    "\n",
    "# Insert records into the table\n",
    "insert_query = '''\n",
    "    INSERT INTO employees (id, name, age, department)\n",
    "    VALUES (1, 'John Doe', 30, 'Sales'),\n",
    "           (2, 'Jane Smith', 35, 'Marketing')\n",
    "'''\n",
    "cursor.execute(insert_query)\n",
    "\n",
    "# Update records\n",
    "update_query = '''\n",
    "    UPDATE employees\n",
    "    SET age = 32\n",
    "    WHERE id = 1\n",
    "'''\n",
    "cursor.execute(update_query)\n",
    "\n",
    "# Delete records\n",
    "delete_query = '''\n",
    "    DELETE FROM employees\n",
    "    WHERE id = 2\n",
    "'''\n",
    "cursor.execute(delete_query)\n"
   ]
  },
  {
   "cell_type": "code",
   "execution_count": null,
   "id": "c029419c",
   "metadata": {},
   "outputs": [],
   "source": []
  },
  {
   "attachments": {
    "image.png": {
     "image/png": "[encoded data removed]"
    }
   },
   "cell_type": "markdown",
   "id": "c058de61",
   "metadata": {},
   "source": [
    "![image.png](attachment:image.png)"
   ]
  },
  {
   "cell_type": "markdown",
   "id": "f2dd6f48",
   "metadata": {},
   "source": [
    "DQL (Data Query Language):\n",
    "DQL statements are specifically used for querying or retrieving data from the database. \n",
    "The most commonly used DQL statement is the SELECT statement, \n",
    "which allows you to specify the columns and conditions to retrieve specific data from one or more tables. \n",
    "DQL is focused on retrieving and filtering data rather than modifying or defining database objects.\n"
   ]
  },
  {
   "cell_type": "code",
   "execution_count": null,
   "id": "bf058ed0",
   "metadata": {},
   "outputs": [],
   "source": [
    "# DQL - Data Query Language\n",
    "\n",
    "# Retrieve records from the table\n",
    "select_query = '''\n",
    "    SELECT * FROM employees\n",
    "'''\n",
    "cursor.execute(select_query)\n",
    "result = cursor.fetchall()\n",
    "\n",
    "# Process the result\n",
    "for row in result:\n",
    "    print(row)\n",
    "\n",
    "# Close the cursor and connection\n",
    "cursor.close()\n",
    "cnx.close()\n"
   ]
  },
  {
   "cell_type": "code",
   "execution_count": null,
   "id": "831a1cfc",
   "metadata": {},
   "outputs": [],
   "source": []
  },
  {
   "attachments": {
    "image.png": {
     "image/png": "[encoded data removed]"
    }
   },
   "cell_type": "markdown",
   "id": "8ec75bf7",
   "metadata": {},
   "source": [
    "![image.png](attachment:image.png)"
   ]
  },
  {
   "cell_type": "markdown",
   "id": "5efd55f6",
   "metadata": {},
   "source": [
    "Sure! Here's a brief explanation of primary key and foreign key:\n",
    "\n",
    "Primary Key:\n",
    "- A primary key is a column or set of columns in a database table that uniquely identifies each record or row.\n",
    "- It ensures the uniqueness and integrity of the data in the table, as it must have a unique value for each record.\n",
    "- A primary key is typically used as a reference point to identify and relate records in a table.\n",
    "- Only one primary key can be defined per table.\n",
    "\n",
    "Foreign Key:\n",
    "- A foreign key is a column or set of columns in a database table that refers to the primary key of another table.\n",
    "- It establishes a relationship between two tables by enforcing referential integrity.\n",
    "- The foreign key in one table references the primary key of another table, creating a link or association between the two tables.\n",
    "- It ensures that the values in the foreign key column(s) correspond to existing values in the referenced primary key column(s).\n",
    "- Multiple foreign keys can be defined in a table, depending on the relationships between the tables.\n",
    "\n",
    "In summary, a primary key uniquely identifies each record in a table, while a foreign key establishes a relationship between tables by referring to the primary key of another table. The primary key ensures data integrity and uniqueness, while the foreign key maintains the integrity and consistency of the relationships between tables."
   ]
  },
  {
   "cell_type": "code",
   "execution_count": null,
   "id": "a82e5421",
   "metadata": {},
   "outputs": [],
   "source": []
  },
  {
   "attachments": {
    "image.png": {
     "image/png": "[encoded data removed]"
    }
   },
   "cell_type": "markdown",
   "id": "c158496f",
   "metadata": {},
   "source": [
    "![image.png](attachment:image.png)"
   ]
  },
  {
   "cell_type": "markdown",
   "id": "ed36215e",
   "metadata": {},
   "source": [
    "In the code snippet provided, the cursor and execute functions are used for executing SQL queries and retrieving the result from the MySQL database. Here's a breakdown of their usage:\n",
    "\n",
    "1. Cursor:\n",
    "A cursor is an object that allows you to interact with the database and execute SQL queries. It acts as a control structure that helps you manage the context of a database session and perform operations such as executing queries, fetching results, and managing transactions. In the code, the cursor is created using `cnx.cursor()` and assigned to the variable `cursor`.\n",
    "\n",
    "2. Execute:\n",
    "The `execute` method of the cursor object is used to execute SQL queries. It takes an SQL statement as a parameter and executes it against the connected MySQL database. In the code, `cursor.execute('SELECT * FROM your_table')` is used to execute the SQL query that selects all records from the specified table.\n",
    "\n",
    "Using the cursor and execute functions, you can perform a wide range of database operations, including querying, inserting, updating, and deleting data from the MySQL database within your Jupyter Notebook or any Python script."
   ]
  },
  {
   "cell_type": "code",
   "execution_count": null,
   "id": "bcb83600",
   "metadata": {},
   "outputs": [],
   "source": [
    "import mysql.connector\n",
    "\n",
    "# Establish a connection\n",
    "cnx = mysql.connector.connect(\n",
    "    host='your_host',\n",
    "    port='your_port',\n",
    "    user='your_username',\n",
    "    password='your_password',\n",
    "    database='your_database'\n",
    ")\n",
    "\n",
    "# Create a cursor object\n",
    "cursor = cnx.cursor()\n",
    "\n",
    "# Execute SQL queries\n",
    "cursor.execute('SELECT * FROM table')\n",
    "result = cursor.fetchall()\n",
    "\n",
    "# Process the result\n",
    "for row in result:\n",
    "    print(row)\n",
    "\n",
    "# Close the cursor and connection\n",
    "cursor.close()\n",
    "cnx.close()\n"
   ]
  },
  {
   "cell_type": "code",
   "execution_count": null,
   "id": "84ff59bb",
   "metadata": {},
   "outputs": [],
   "source": []
  },
  {
   "attachments": {
    "image.png": {
     "image/png": "[encoded data removed]"
    }
   },
   "cell_type": "markdown",
   "id": "3507515d",
   "metadata": {},
   "source": [
    "![image.png](attachment:image.png)"
   ]
  },
  {
   "cell_type": "markdown",
   "id": "0b50a968",
   "metadata": {},
   "source": [
    "In a typical SELECT statement, the order of execution follows these logical steps:\n",
    "\n",
    "1. FROM\n",
    "2. JOIN\n",
    "3. WHERE\n",
    "4. GROUP BY\n",
    "5. HAVING\n",
    "6. DISTINCT\n",
    "7. ORDER BY\n",
    "8. LIMIT/OFFSET\n",
    "\n"
   ]
  },
  {
   "cell_type": "code",
   "execution_count": null,
   "id": "09e04b37",
   "metadata": {},
   "outputs": [],
   "source": []
  }
 ],
 "metadata": {
  "kernelspec": {
   "display_name": "Python 3 (ipykernel)",
   "language": "python",
   "name": "python3"
  },
  "language_info": {
   "codemirror_mode": {
    "name": "ipython",
    "version": 3
   },
   "file_extension": ".py",
   "mimetype": "text/x-python",
   "name": "python",
   "nbconvert_exporter": "python",
   "pygments_lexer": "ipython3",
   "version": "3.11.1"
  }
 },
 "nbformat": 4,
 "nbformat_minor": 5
}
